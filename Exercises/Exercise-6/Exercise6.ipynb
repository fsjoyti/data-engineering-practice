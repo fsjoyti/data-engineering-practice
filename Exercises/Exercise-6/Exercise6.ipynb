{
  "nbformat": 4,
  "nbformat_minor": 0,
  "metadata": {
    "colab": {
      "provenance": []
    },
    "kernelspec": {
      "name": "python3",
      "display_name": "Python 3"
    },
    "language_info": {
      "name": "python"
    }
  },
  "cells": [
    {
      "cell_type": "code",
      "execution_count": 1,
      "metadata": {
        "id": "lx_oBTBMfBxG"
      },
      "outputs": [],
      "source": [
        "from google.colab import drive"
      ]
    },
    {
      "cell_type": "code",
      "source": [
        "import os\n",
        "import zipfile\n",
        "from zipfile import ZipFile\n",
        "from os import path\n",
        "import pandas as pd\n",
        "from pyspark.sql import SparkSession\n",
        "from pyspark.sql.functions import avg, col, to_timestamp, unix_timestamp,mean, to_date, month,  date_format, array, explode, rank\n",
        "from pyspark.sql import types\n",
        "from pyspark.sql.window import Window"
      ],
      "metadata": {
        "id": "LqIj3cmvgTxh"
      },
      "execution_count": 96,
      "outputs": []
    },
    {
      "cell_type": "code",
      "source": [
        "drive.mount('/content/drive')"
      ],
      "metadata": {
        "colab": {
          "base_uri": "https://localhost:8080/"
        },
        "id": "V0tiXvm-fsFT",
        "outputId": "12a7e1a1-288d-46f2-96ac-8fec147d3a85"
      },
      "execution_count": 3,
      "outputs": [
        {
          "output_type": "stream",
          "name": "stdout",
          "text": [
            "Mounted at /content/drive\n"
          ]
        }
      ]
    },
    {
      "cell_type": "code",
      "source": [
        "!ls \"/content/drive/MyDrive/data\""
      ],
      "metadata": {
        "colab": {
          "base_uri": "https://localhost:8080/"
        },
        "id": "haqaVEMkf37Y",
        "outputId": "fdfe6273-ac05-49ae-e446-7765c13d4564"
      },
      "execution_count": 4,
      "outputs": [
        {
          "output_type": "stream",
          "name": "stdout",
          "text": [
            "Divvy_Trips_2019_Q4.zip  Divvy_Trips_2020_Q1.zip\n"
          ]
        }
      ]
    },
    {
      "cell_type": "code",
      "source": [
        "def get_file_paths(root_directory, folder_name, file_extension):\n",
        "    file_paths = []\n",
        "    file_directory = os.path.join(root_directory, folder_name)\n",
        "    for root, _, files in os.walk(file_directory):\n",
        "        for file_name in files:\n",
        "            if file_extension in file_name:\n",
        "                file_paths.append(os.path.join(root, file_name))\n",
        "    return file_paths"
      ],
      "metadata": {
        "id": "ImCsIDRXgC9_"
      },
      "execution_count": 5,
      "outputs": []
    },
    {
      "cell_type": "code",
      "source": [
        "def read_zip_files_into_dataframes(zip_file_paths):\n",
        "    df_list = []\n",
        "    for file_path in zip_file_paths:\n",
        "        print(f\"Reading for {file_path}\")\n",
        "        zip_file = ZipFile(file_path)\n",
        "        for text_file in zip_file.infolist():\n",
        "            if text_file.filename.endswith(\n",
        "                \".csv\"\n",
        "            ) and not text_file.filename.startswith(\"__MACOSX\"):\n",
        "                df = pd.read_csv(zip_file.open(text_file.filename))\n",
        "                # add a column for the year based on the filename\n",
        "                year = int(path.basename(file_path).split(\".\")[0].split(\"_\")[-2])\n",
        "                df['year'] = year\n",
        "                df_list.append(df)\n",
        "    return df_list"
      ],
      "metadata": {
        "id": "qMyBX4uXggnt"
      },
      "execution_count": 6,
      "outputs": []
    },
    {
      "cell_type": "code",
      "source": [
        "def write_to_csv(df, file_path):\n",
        "  # set mode to overwrite\n",
        "  df.write.mode(\"overwrite\").csv(file_path, header=True)"
      ],
      "metadata": {
        "id": "J98zGIf4XuVs"
      },
      "execution_count": 7,
      "outputs": []
    },
    {
      "cell_type": "code",
      "source": [
        "current_directory = os.getcwd()"
      ],
      "metadata": {
        "id": "XLRt8FiZgm5A"
      },
      "execution_count": 8,
      "outputs": []
    },
    {
      "cell_type": "code",
      "source": [
        "current_directory"
      ],
      "metadata": {
        "colab": {
          "base_uri": "https://localhost:8080/",
          "height": 35
        },
        "id": "EBHTOvRxgnyQ",
        "outputId": "da5cdf6e-622b-4997-869e-6c2b3d27d98f"
      },
      "execution_count": 9,
      "outputs": [
        {
          "output_type": "execute_result",
          "data": {
            "text/plain": [
              "'/content'"
            ],
            "application/vnd.google.colaboratory.intrinsic+json": {
              "type": "string"
            }
          },
          "metadata": {},
          "execution_count": 9
        }
      ]
    },
    {
      "cell_type": "code",
      "source": [
        "zip_file_paths = get_file_paths(current_directory, r\"/content/drive/MyDrive/data\", \"zip\")"
      ],
      "metadata": {
        "id": "J4GfiGwogv9G"
      },
      "execution_count": 10,
      "outputs": []
    },
    {
      "cell_type": "code",
      "source": [
        "zip_file_paths"
      ],
      "metadata": {
        "colab": {
          "base_uri": "https://localhost:8080/"
        },
        "id": "2tH9o2Fpgz5m",
        "outputId": "56685ca2-ca7f-440b-a23a-0191550fec5e"
      },
      "execution_count": 11,
      "outputs": [
        {
          "output_type": "execute_result",
          "data": {
            "text/plain": [
              "['/content/drive/MyDrive/data/Divvy_Trips_2019_Q4.zip',\n",
              " '/content/drive/MyDrive/data/Divvy_Trips_2020_Q1.zip']"
            ]
          },
          "metadata": {},
          "execution_count": 11
        }
      ]
    },
    {
      "cell_type": "code",
      "source": [
        "pdf = read_zip_files_into_dataframes(zip_file_paths)"
      ],
      "metadata": {
        "colab": {
          "base_uri": "https://localhost:8080/"
        },
        "id": "RrHg3sWdyQWq",
        "outputId": "55f15b5c-6743-49c5-e83d-6d04d87195e2"
      },
      "execution_count": 12,
      "outputs": [
        {
          "output_type": "stream",
          "name": "stdout",
          "text": [
            "Reading for /content/drive/MyDrive/data/Divvy_Trips_2019_Q4.zip\n",
            "Reading for /content/drive/MyDrive/data/Divvy_Trips_2020_Q1.zip\n"
          ]
        }
      ]
    },
    {
      "cell_type": "code",
      "source": [
        "df_2019 = pdf[0]"
      ],
      "metadata": {
        "id": "gNqqzsnayc0d"
      },
      "execution_count": 13,
      "outputs": []
    },
    {
      "cell_type": "code",
      "source": [
        "df_2019['birthyear'] = df_2019['birthyear'].astype('Int64')\n",
        "df_2019[\"trip_id\"] = df_2019[\"trip_id\"].astype(str)"
      ],
      "metadata": {
        "id": "MaJMTi28yeEc"
      },
      "execution_count": 14,
      "outputs": []
    },
    {
      "cell_type": "code",
      "source": [
        "df_2019=df_2019.rename(columns={'trip_id' : \"ride_id\", \"start_time\": \"started_at\", \"end_time\": \"ended_at\", \"from_station_id\": \"start_station_id\", \"from_station_name\": \"start_station_name\", \"to_station_id\": \"end_station_id\", \"to_station_name\": \"end_station_name\"})"
      ],
      "metadata": {
        "id": "6fQbbUWGzg3e"
      },
      "execution_count": 15,
      "outputs": []
    },
    {
      "cell_type": "code",
      "source": [
        "df_2020 = pdf[1]"
      ],
      "metadata": {
        "id": "Y4sIh0H5zkUT"
      },
      "execution_count": 16,
      "outputs": []
    },
    {
      "cell_type": "code",
      "source": [
        "overlapping_columns = df_2020.columns.intersection(df_2019.columns).tolist()"
      ],
      "metadata": {
        "id": "Ykxn0A2-zqxo"
      },
      "execution_count": 17,
      "outputs": []
    },
    {
      "cell_type": "code",
      "source": [
        "df_2019_subset = df_2019.loc[:, overlapping_columns]"
      ],
      "metadata": {
        "id": "oxgH6CStzuf-"
      },
      "execution_count": 18,
      "outputs": []
    },
    {
      "cell_type": "code",
      "source": [
        "df_2020_subset = df_2020.loc[:, overlapping_columns]"
      ],
      "metadata": {
        "id": "BZmgTEarzzl7"
      },
      "execution_count": 19,
      "outputs": []
    },
    {
      "cell_type": "code",
      "source": [
        "subset_list = [df_2019_subset, df_2020_subset]"
      ],
      "metadata": {
        "id": "FQQHtlhuz4LZ"
      },
      "execution_count": 21,
      "outputs": []
    },
    {
      "cell_type": "code",
      "source": [
        "combined_df = pd.concat(subset_list, ignore_index=True)"
      ],
      "metadata": {
        "id": "ZloIT2saz6tr"
      },
      "execution_count": 22,
      "outputs": []
    },
    {
      "cell_type": "code",
      "source": [
        "combined_df['end_station_id'] = combined_df['end_station_id'].astype('Int64')\n",
        "combined_df['start_station_id'] = combined_df['start_station_id'].astype('Int64')"
      ],
      "metadata": {
        "id": "lv1sCtV30bzd"
      },
      "execution_count": 23,
      "outputs": []
    },
    {
      "cell_type": "code",
      "source": [
        "cols = combined_df.columns.tolist()"
      ],
      "metadata": {
        "id": "WGMd2Cu70jLA"
      },
      "execution_count": 24,
      "outputs": []
    },
    {
      "cell_type": "code",
      "source": [
        "combined_df = combined_df[['ride_id','started_at', 'ended_at','start_station_id','start_station_name','end_station_id','end_station_name','year']]"
      ],
      "metadata": {
        "id": "jAohdSTn0mXV"
      },
      "execution_count": 25,
      "outputs": []
    },
    {
      "cell_type": "code",
      "source": [
        "\n",
        "combined_df['started_at']= pd.to_datetime(combined_df['started_at'])\n",
        "combined_df['ended_at'] = pd.to_datetime(combined_df['ended_at'])"
      ],
      "metadata": {
        "id": "GfuIP-Um0qdZ"
      },
      "execution_count": 26,
      "outputs": []
    },
    {
      "cell_type": "code",
      "source": [
        "combined_df.fillna({'end_station_id': 0}, inplace=True)"
      ],
      "metadata": {
        "id": "TaeoL1fB31Qs"
      },
      "execution_count": 27,
      "outputs": []
    },
    {
      "cell_type": "code",
      "source": [
        "combined_df.dtypes"
      ],
      "metadata": {
        "colab": {
          "base_uri": "https://localhost:8080/",
          "height": 335
        },
        "id": "POEGVJxF1VvY",
        "outputId": "461e2c06-ceb8-46ce-aa06-198dd5ed98cb"
      },
      "execution_count": 28,
      "outputs": [
        {
          "output_type": "execute_result",
          "data": {
            "text/plain": [
              "ride_id                       object\n",
              "started_at            datetime64[ns]\n",
              "ended_at              datetime64[ns]\n",
              "start_station_id               Int64\n",
              "start_station_name            object\n",
              "end_station_id                 Int64\n",
              "end_station_name              object\n",
              "year                           int64\n",
              "dtype: object"
            ],
            "text/html": [
              "<div>\n",
              "<style scoped>\n",
              "    .dataframe tbody tr th:only-of-type {\n",
              "        vertical-align: middle;\n",
              "    }\n",
              "\n",
              "    .dataframe tbody tr th {\n",
              "        vertical-align: top;\n",
              "    }\n",
              "\n",
              "    .dataframe thead th {\n",
              "        text-align: right;\n",
              "    }\n",
              "</style>\n",
              "<table border=\"1\" class=\"dataframe\">\n",
              "  <thead>\n",
              "    <tr style=\"text-align: right;\">\n",
              "      <th></th>\n",
              "      <th>0</th>\n",
              "    </tr>\n",
              "  </thead>\n",
              "  <tbody>\n",
              "    <tr>\n",
              "      <th>ride_id</th>\n",
              "      <td>object</td>\n",
              "    </tr>\n",
              "    <tr>\n",
              "      <th>started_at</th>\n",
              "      <td>datetime64[ns]</td>\n",
              "    </tr>\n",
              "    <tr>\n",
              "      <th>ended_at</th>\n",
              "      <td>datetime64[ns]</td>\n",
              "    </tr>\n",
              "    <tr>\n",
              "      <th>start_station_id</th>\n",
              "      <td>Int64</td>\n",
              "    </tr>\n",
              "    <tr>\n",
              "      <th>start_station_name</th>\n",
              "      <td>object</td>\n",
              "    </tr>\n",
              "    <tr>\n",
              "      <th>end_station_id</th>\n",
              "      <td>Int64</td>\n",
              "    </tr>\n",
              "    <tr>\n",
              "      <th>end_station_name</th>\n",
              "      <td>object</td>\n",
              "    </tr>\n",
              "    <tr>\n",
              "      <th>year</th>\n",
              "      <td>int64</td>\n",
              "    </tr>\n",
              "  </tbody>\n",
              "</table>\n",
              "</div><br><label><b>dtype:</b> object</label>"
            ]
          },
          "metadata": {},
          "execution_count": 28
        }
      ]
    },
    {
      "cell_type": "code",
      "source": [
        "schema = types.StructType([\n",
        "    types.StructField(\"ride_id\", types.StringType(), True),\n",
        "    types.StructField(\"started_at\", types.TimestampType(), True),\n",
        "    types.StructField(\"ended_at\", types.TimestampType(), True),\n",
        "    types.StructField(\"start_station_id\", types.LongType(), True),\n",
        "    types.StructField(\"start_station_name\", types.StringType(), True),\n",
        "    types.StructField(\"end_station_id\", types.LongType(), True),\n",
        "    types.StructField(\"end_station_name\", types.StringType(), True),\n",
        "    types.StructField(\"year\", types.LongType(), True),\n",
        "\n",
        "])"
      ],
      "metadata": {
        "id": "l9ij03xj0svP"
      },
      "execution_count": 29,
      "outputs": []
    },
    {
      "cell_type": "code",
      "source": [
        "spark = SparkSession.builder.appName(\"Exercise6\").enableHiveSupport().getOrCreate()"
      ],
      "metadata": {
        "id": "RZpLR3ctg13O"
      },
      "execution_count": 30,
      "outputs": []
    },
    {
      "cell_type": "code",
      "source": [
        "spark.conf.set(\"spark.sql.legacy.timeParserPolicy\", \"LEGACY\")"
      ],
      "metadata": {
        "id": "Z3AsRIGMJY2J"
      },
      "execution_count": 42,
      "outputs": []
    },
    {
      "cell_type": "code",
      "source": [
        "spark.createDataFrame(combined_df).schema"
      ],
      "metadata": {
        "colab": {
          "base_uri": "https://localhost:8080/"
        },
        "id": "0f3J_u9L1nGW",
        "outputId": "b62c13c6-0bfc-4879-e720-1c1fc9a2e88a"
      },
      "execution_count": 31,
      "outputs": [
        {
          "output_type": "execute_result",
          "data": {
            "text/plain": [
              "StructType([StructField('ride_id', StringType(), True), StructField('started_at', TimestampType(), True), StructField('ended_at', TimestampType(), True), StructField('start_station_id', LongType(), True), StructField('start_station_name', StringType(), True), StructField('end_station_id', LongType(), True), StructField('end_station_name', StringType(), True), StructField('year', LongType(), True)])"
            ]
          },
          "metadata": {},
          "execution_count": 31
        }
      ]
    },
    {
      "cell_type": "code",
      "source": [
        "sparkDF = spark.createDataFrame(combined_df, schema = schema)"
      ],
      "metadata": {
        "id": "3IwGAJOvhL4A"
      },
      "execution_count": 32,
      "outputs": []
    },
    {
      "cell_type": "code",
      "source": [
        "sparkDF.show()"
      ],
      "metadata": {
        "colab": {
          "base_uri": "https://localhost:8080/"
        },
        "id": "9fJtBqHqhzqa",
        "outputId": "9f609a9f-d164-42db-b62f-eecc58cd0fae"
      },
      "execution_count": 34,
      "outputs": [
        {
          "output_type": "stream",
          "name": "stdout",
          "text": [
            "+--------+-------------------+-------------------+----------------+--------------------+--------------+--------------------+----+\n",
            "| ride_id|         started_at|           ended_at|start_station_id|  start_station_name|end_station_id|    end_station_name|year|\n",
            "+--------+-------------------+-------------------+----------------+--------------------+--------------+--------------------+----+\n",
            "|25223640|2019-10-01 00:01:39|2019-10-01 00:17:20|              20|Sheffield Ave & K...|           309|Leavitt St & Armi...|2019|\n",
            "|25223641|2019-10-01 00:02:16|2019-10-01 00:06:34|              19|Throop (Loomis) S...|           241| Morgan St & Polk St|2019|\n",
            "|25223642|2019-10-01 00:04:32|2019-10-01 00:18:43|              84|Milwaukee Ave & G...|           199|Wabash Ave & Gran...|2019|\n",
            "|25223643|2019-10-01 00:04:32|2019-10-01 00:43:43|             313|Lakeview Ave & Fu...|           290|Kedzie Ave & Palm...|2019|\n",
            "|25223644|2019-10-01 00:04:34|2019-10-01 00:35:42|             210|Ashland Ave & Div...|           382|Western Ave & Con...|2019|\n",
            "|25223645|2019-10-01 00:04:38|2019-10-01 00:10:51|             156|Clark St & Wellin...|           226|Racine Ave & Belm...|2019|\n",
            "|25223646|2019-10-01 00:04:52|2019-10-01 00:22:45|              84|Milwaukee Ave & G...|           142|McClurg Ct & Erie St|2019|\n",
            "|25223647|2019-10-01 00:04:57|2019-10-01 00:29:16|             156|Clark St & Wellin...|           463|Clark St & Berwyn...|2019|\n",
            "|25223648|2019-10-01 00:05:20|2019-10-01 00:29:18|             156|Clark St & Wellin...|           463|Clark St & Berwyn...|2019|\n",
            "|25223649|2019-10-01 00:05:20|2019-10-01 02:23:46|             336|Cottage Grove Ave...|           336|Cottage Grove Ave...|2019|\n",
            "|25223650|2019-10-01 00:05:30|2019-10-01 00:37:36|              77|Clinton St & Madi...|           506|Spaulding Ave & A...|2019|\n",
            "|25223651|2019-10-01 00:07:25|2019-10-01 00:19:53|             198|Green St & Madiso...|           331|Halsted St & Clyb...|2019|\n",
            "|25223652|2019-10-01 00:08:40|2019-10-01 00:26:00|              66|Clinton St & Lake St|            16|Paulina Ave & Nor...|2019|\n",
            "|25223653|2019-10-01 00:08:52|2019-10-01 00:29:17|             240|Sheridan Rd & Irv...|           230|Lincoln Ave & Ros...|2019|\n",
            "|25223655|2019-10-01 00:10:03|2019-10-01 00:15:30|              66|Clinton St & Lake St|            88|Racine Ave & Rand...|2019|\n",
            "|25223656|2019-10-01 00:10:46|2019-10-01 00:16:04|             373|Kedzie Ave & Chic...|           377|Kedzie Ave & Lake St|2019|\n",
            "|25223657|2019-10-01 00:12:04|2019-10-01 01:13:36|              74|Kingsbury St & Er...|           402|Shields Ave & 31s...|2019|\n",
            "|25223658|2019-10-01 00:12:47|2019-10-01 00:17:55|             289|Wells St & Concor...|           176|   Clark St & Elm St|2019|\n",
            "|25223659|2019-10-01 00:13:21|2019-10-01 00:34:12|             106|State St & Pearso...|           334|Lake Shore Dr & B...|2019|\n",
            "|25223660|2019-10-01 00:15:07|2019-10-01 00:40:34|             133|Kingsbury St & Ki...|           673|Lincoln Park Cons...|2019|\n",
            "+--------+-------------------+-------------------+----------------+--------------------+--------------+--------------------+----+\n",
            "only showing top 20 rows\n",
            "\n"
          ]
        }
      ]
    },
    {
      "cell_type": "code",
      "source": [
        "def output_average_trip_duration(df, output_file_path):\n",
        "  df_new = df.withColumn('start_time_ts', unix_timestamp('started_at'))\\\n",
        "                      .withColumn('end_time_ts', unix_timestamp('ended_at'))\n",
        "  df_new = df_new.withColumn('days_diff', col('end_time_ts').cast('long') - col('start_time_ts').cast('long'))\n",
        "  df_new = df_new.withColumn(\"day\", to_date(col(\"started_at\")))\n",
        "  df_new = df_new.groupBy(\"day\").agg(mean(\"days_diff\").alias(\"trip_duration\"))\n",
        "  # select only day and average_trip_duration columns\n",
        "  df_new = df_new.orderBy(\"day\")\n",
        "  df_new = df_new.dropna()\n",
        "  write_to_csv(df_new, output_file_path)\n"
      ],
      "metadata": {
        "id": "BRj4XwmfobjO"
      },
      "execution_count": null,
      "outputs": []
    },
    {
      "cell_type": "markdown",
      "source": [],
      "metadata": {
        "id": "nMguCCsfap21"
      }
    },
    {
      "cell_type": "code",
      "source": [
        "output_average_trip_duration(sparkDF, \"/content/drive/MyDrive/reports/report1\")\n",
        "#"
      ],
      "metadata": {
        "id": "YJLQgcU6titp"
      },
      "execution_count": null,
      "outputs": []
    },
    {
      "cell_type": "code",
      "source": [
        "def output_trips_per_day(df, output_file_path):\n",
        "  df_new = df.withColumn(\"day\", to_date(col(\"started_at\")))\n",
        "  df_new = df_new.groupBy(\"day\").count()\n",
        "  df_new = df_new.orderBy(\"day\")\n",
        "  write_to_csv(df_new, output_file_path)"
      ],
      "metadata": {
        "id": "dUbLO01IX8b3"
      },
      "execution_count": null,
      "outputs": []
    },
    {
      "cell_type": "code",
      "source": [
        "output_trips_per_day(sparkDF, \"/content/drive/MyDrive/reports/report2\")"
      ],
      "metadata": {
        "id": "XEXzyLVIYOtc"
      },
      "execution_count": null,
      "outputs": []
    },
    {
      "cell_type": "code",
      "source": [
        "def output_most_popular_start_stations_for_each_month(df, output_file_path):\n",
        "  df_new = df.withColumn(\"month\", month(col(\"started_at\")))\n",
        "  df_new = df_new.dropna(subset=[\"start_station_id\"])\n",
        "  df_new = df_new.groupBy(\"month\", \"year\", \"start_station_id\", \"start_station_name\").count()\n",
        "  df_new = df_new.orderBy(\"count\", \"month\", \"year\", ascending=[False, True, True])\n",
        "  df_new.show()\n",
        "  write_to_csv(df_new, output_file_path)"
      ],
      "metadata": {
        "id": "kg7leRMbZcd-"
      },
      "execution_count": null,
      "outputs": []
    },
    {
      "cell_type": "code",
      "source": [
        "output_most_popular_start_stations_for_each_month(sparkDF, \"/content/drive/MyDrive/reports/report3\")"
      ],
      "metadata": {
        "id": "h33Iad4waAAZ",
        "colab": {
          "base_uri": "https://localhost:8080/"
        },
        "outputId": "fa01eb0e-4fa4-4042-86cd-75646a56fd96"
      },
      "execution_count": null,
      "outputs": [
        {
          "output_type": "stream",
          "name": "stdout",
          "text": [
            "+-----+----+----------------+--------------------+-----+\n",
            "|month|year|start_station_id|  start_station_name|count|\n",
            "+-----+----+----------------+--------------------+-----+\n",
            "|   10|2019|             192| Canal St & Adams St| 6564|\n",
            "|   10|2019|              77|Clinton St & Madi...| 5340|\n",
            "|   10|2019|              91|Clinton St & Wash...| 4921|\n",
            "|   10|2019|              35|Streeter Dr & Gra...| 4553|\n",
            "|   10|2019|              76|Lake Shore Dr & M...| 3981|\n",
            "|   10|2019|             195|Columbus Dr & Ran...| 3925|\n",
            "|   10|2019|             287|Franklin St & Mon...| 3741|\n",
            "|   10|2019|             133|Kingsbury St & Ki...| 3497|\n",
            "|   11|2019|             192| Canal St & Adams St| 3445|\n",
            "|   10|2019|              81|  Daley Center Plaza| 3387|\n",
            "|   10|2019|              43|Michigan Ave & Wa...| 3294|\n",
            "|    1|2020|             192| Canal St & Adams St| 3241|\n",
            "|    3|2020|             675|               HQ QR| 3210|\n",
            "|   12|2019|             192| Canal St & Adams St| 2928|\n",
            "|    1|2020|              77|Clinton St & Madi...| 2873|\n",
            "|   10|2019|             283|LaSalle St & Jack...| 2865|\n",
            "|   10|2019|             174|Canal St & Madiso...| 2823|\n",
            "|    2|2020|             192| Canal St & Adams St| 2782|\n",
            "|   11|2019|              77|Clinton St & Madi...| 2758|\n",
            "|   10|2019|              90|     Millennium Park| 2725|\n",
            "+-----+----+----------------+--------------------+-----+\n",
            "only showing top 20 rows\n",
            "\n"
          ]
        }
      ]
    },
    {
      "cell_type": "code",
      "source": [
        "def output_top_three_stations_each_day_for_last_two_weeks(df, output_file_path):\n",
        "  df_new = df.withColumn(\"day\", to_date(col(\"started_at\")))\n",
        "  df_new = df_new.withColumn(\"week\", date_format(to_date(\"day\", \"yyyy-mm-dddd\"), \"W\"))\n",
        "  df_new = df_new.filter((col(\"week\") == \"3\") | (col(\"week\") == \"4\"))\n",
        "  df_new = df_new.withColumn(\"station_usage\", array(col(\"start_station_name\"), col(\"end_station_name\")))\n",
        "  df_new = df_new.select(\"day\", explode(\"station_usage\").alias(\"station_name\"))\n",
        "  df_new = df_new.groupBy(\"day\", \"station_name\").count()\n",
        "  df_new = df_new.orderBy(\"day\", \"count\", ascending=[True, False])\n",
        "  window = Window.partitionBy(\"day\").orderBy(col(\"count\").desc())\n",
        "  df_new = df_new.withColumn(\"rank\", rank().over(window))\n",
        "  df_new = df_new.filter(col(\"rank\") <= 3)\n",
        "  df_new = df_new.select(\"day\", \"station_name\", \"count\")\n",
        "  write_to_csv(df_new, output_file_path)"
      ],
      "metadata": {
        "id": "Cuqh_6peGD91"
      },
      "execution_count": 94,
      "outputs": []
    },
    {
      "cell_type": "code",
      "source": [
        "output_top_three_stations_each_day_for_last_two_weeks(sparkDF, \"/content/drive/MyDrive/reports/report4\")"
      ],
      "metadata": {
        "id": "l7ilFrZgRYS6"
      },
      "execution_count": 95,
      "outputs": []
    }
  ]
}
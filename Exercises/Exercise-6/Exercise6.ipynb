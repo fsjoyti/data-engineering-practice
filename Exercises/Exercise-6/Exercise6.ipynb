{
  "nbformat": 4,
  "nbformat_minor": 0,
  "metadata": {
    "colab": {
      "provenance": []
    },
    "kernelspec": {
      "name": "python3",
      "display_name": "Python 3"
    },
    "language_info": {
      "name": "python"
    }
  },
  "cells": [
    {
      "cell_type": "code",
      "execution_count": 1,
      "metadata": {
        "id": "lx_oBTBMfBxG"
      },
      "outputs": [],
      "source": [
        "from google.colab import drive"
      ]
    },
    {
      "cell_type": "code",
      "source": [
        "import os\n",
        "import zipfile\n",
        "from zipfile import ZipFile\n",
        "from os import path\n",
        "import pandas as pd\n",
        "from pyspark.sql import SparkSession\n",
        "from pyspark.sql.functions import avg, col, to_timestamp, unix_timestamp,mean, to_date, month,  date_format, array, explode, rank, months_between, year, max, min, row_number\n",
        "from pyspark.sql import types\n",
        "from pyspark.sql.window import Window"
      ],
      "metadata": {
        "id": "LqIj3cmvgTxh"
      },
      "execution_count": 2,
      "outputs": []
    },
    {
      "cell_type": "code",
      "source": [
        "drive.mount('/content/drive')"
      ],
      "metadata": {
        "colab": {
          "base_uri": "https://localhost:8080/"
        },
        "id": "V0tiXvm-fsFT",
        "outputId": "4057d4ab-956f-48ce-e9a8-78f9ce413817"
      },
      "execution_count": 3,
      "outputs": [
        {
          "output_type": "stream",
          "name": "stdout",
          "text": [
            "Mounted at /content/drive\n"
          ]
        }
      ]
    },
    {
      "cell_type": "code",
      "source": [
        "!ls \"/content/drive/MyDrive/data\""
      ],
      "metadata": {
        "colab": {
          "base_uri": "https://localhost:8080/"
        },
        "id": "haqaVEMkf37Y",
        "outputId": "db4006f8-6fb6-48f6-e04b-4e057d820877"
      },
      "execution_count": 4,
      "outputs": [
        {
          "output_type": "stream",
          "name": "stdout",
          "text": [
            "Divvy_Trips_2019_Q4.zip  Divvy_Trips_2020_Q1.zip\n"
          ]
        }
      ]
    },
    {
      "cell_type": "code",
      "source": [
        "def get_file_paths(root_directory, folder_name, file_extension):\n",
        "    file_paths = []\n",
        "    file_directory = os.path.join(root_directory, folder_name)\n",
        "    for root, _, files in os.walk(file_directory):\n",
        "        for file_name in files:\n",
        "            if file_extension in file_name:\n",
        "                file_paths.append(os.path.join(root, file_name))\n",
        "    return file_paths"
      ],
      "metadata": {
        "id": "ImCsIDRXgC9_"
      },
      "execution_count": 5,
      "outputs": []
    },
    {
      "cell_type": "code",
      "source": [
        "def read_zip_files_into_dataframes(zip_file_paths):\n",
        "    df_list = []\n",
        "    for file_path in zip_file_paths:\n",
        "        print(f\"Reading for {file_path}\")\n",
        "        zip_file = ZipFile(file_path)\n",
        "        for text_file in zip_file.infolist():\n",
        "            if text_file.filename.endswith(\n",
        "                \".csv\"\n",
        "            ) and not text_file.filename.startswith(\"__MACOSX\"):\n",
        "                df = pd.read_csv(zip_file.open(text_file.filename))\n",
        "                # add a column for the year based on the filename\n",
        "                year = int(path.basename(file_path).split(\".\")[0].split(\"_\")[-2])\n",
        "                df['year'] = year\n",
        "                df_list.append(df)\n",
        "    return df_list"
      ],
      "metadata": {
        "id": "qMyBX4uXggnt"
      },
      "execution_count": 6,
      "outputs": []
    },
    {
      "cell_type": "code",
      "source": [
        "def write_to_csv(df, file_path):\n",
        "  # set mode to overwrite\n",
        "  df.write.mode(\"overwrite\").csv(file_path, header=True)"
      ],
      "metadata": {
        "id": "J98zGIf4XuVs"
      },
      "execution_count": 7,
      "outputs": []
    },
    {
      "cell_type": "code",
      "source": [
        "current_directory = os.getcwd()"
      ],
      "metadata": {
        "id": "XLRt8FiZgm5A"
      },
      "execution_count": 8,
      "outputs": []
    },
    {
      "cell_type": "code",
      "source": [
        "current_directory"
      ],
      "metadata": {
        "colab": {
          "base_uri": "https://localhost:8080/",
          "height": 35
        },
        "id": "EBHTOvRxgnyQ",
        "outputId": "6ee69cfa-2f04-4b4b-b0d8-4c94fc515a53"
      },
      "execution_count": 9,
      "outputs": [
        {
          "output_type": "execute_result",
          "data": {
            "text/plain": [
              "'/content'"
            ],
            "application/vnd.google.colaboratory.intrinsic+json": {
              "type": "string"
            }
          },
          "metadata": {},
          "execution_count": 9
        }
      ]
    },
    {
      "cell_type": "code",
      "source": [
        "zip_file_paths = get_file_paths(current_directory, r\"/content/drive/MyDrive/data\", \"zip\")"
      ],
      "metadata": {
        "id": "J4GfiGwogv9G"
      },
      "execution_count": 10,
      "outputs": []
    },
    {
      "cell_type": "code",
      "source": [
        "zip_file_paths"
      ],
      "metadata": {
        "colab": {
          "base_uri": "https://localhost:8080/"
        },
        "id": "2tH9o2Fpgz5m",
        "outputId": "a7f5c325-ac7b-4521-ae01-1cbf3800a64e"
      },
      "execution_count": 11,
      "outputs": [
        {
          "output_type": "execute_result",
          "data": {
            "text/plain": [
              "['/content/drive/MyDrive/data/Divvy_Trips_2019_Q4.zip',\n",
              " '/content/drive/MyDrive/data/Divvy_Trips_2020_Q1.zip']"
            ]
          },
          "metadata": {},
          "execution_count": 11
        }
      ]
    },
    {
      "cell_type": "code",
      "source": [
        "pdf = read_zip_files_into_dataframes(zip_file_paths)"
      ],
      "metadata": {
        "colab": {
          "base_uri": "https://localhost:8080/"
        },
        "id": "RrHg3sWdyQWq",
        "outputId": "68415dce-a05d-4aaa-a475-d81929bfcf04"
      },
      "execution_count": 12,
      "outputs": [
        {
          "output_type": "stream",
          "name": "stdout",
          "text": [
            "Reading for /content/drive/MyDrive/data/Divvy_Trips_2019_Q4.zip\n",
            "Reading for /content/drive/MyDrive/data/Divvy_Trips_2020_Q1.zip\n"
          ]
        }
      ]
    },
    {
      "cell_type": "code",
      "source": [
        "df_2019 = pdf[0]"
      ],
      "metadata": {
        "id": "gNqqzsnayc0d"
      },
      "execution_count": 13,
      "outputs": []
    },
    {
      "cell_type": "code",
      "source": [
        "df_2019['birthyear'] = df_2019['birthyear'].astype('Int64')\n",
        "df_2019[\"trip_id\"] = df_2019[\"trip_id\"].astype(str)"
      ],
      "metadata": {
        "id": "MaJMTi28yeEc"
      },
      "execution_count": 14,
      "outputs": []
    },
    {
      "cell_type": "code",
      "source": [
        "df_2019=df_2019.rename(columns={'trip_id' : \"ride_id\", \"start_time\": \"started_at\", \"end_time\": \"ended_at\", \"from_station_id\": \"start_station_id\", \"from_station_name\": \"start_station_name\", \"to_station_id\": \"end_station_id\", \"to_station_name\": \"end_station_name\"})"
      ],
      "metadata": {
        "id": "6fQbbUWGzg3e"
      },
      "execution_count": 15,
      "outputs": []
    },
    {
      "cell_type": "code",
      "source": [
        "df_2020 = pdf[1]"
      ],
      "metadata": {
        "id": "Y4sIh0H5zkUT"
      },
      "execution_count": null,
      "outputs": []
    },
    {
      "cell_type": "code",
      "source": [
        "overlapping_columns = df_2020.columns.intersection(df_2019.columns).tolist()"
      ],
      "metadata": {
        "id": "Ykxn0A2-zqxo"
      },
      "execution_count": null,
      "outputs": []
    },
    {
      "cell_type": "code",
      "source": [
        "df_2019_subset = df_2019.loc[:, overlapping_columns]"
      ],
      "metadata": {
        "id": "oxgH6CStzuf-"
      },
      "execution_count": null,
      "outputs": []
    },
    {
      "cell_type": "code",
      "source": [
        "df_2020_subset = df_2020.loc[:, overlapping_columns]"
      ],
      "metadata": {
        "id": "BZmgTEarzzl7"
      },
      "execution_count": null,
      "outputs": []
    },
    {
      "cell_type": "code",
      "source": [
        "subset_list = [df_2019_subset, df_2020_subset]"
      ],
      "metadata": {
        "id": "FQQHtlhuz4LZ"
      },
      "execution_count": null,
      "outputs": []
    },
    {
      "cell_type": "code",
      "source": [
        "combined_df = pd.concat(subset_list, ignore_index=True)"
      ],
      "metadata": {
        "id": "ZloIT2saz6tr"
      },
      "execution_count": null,
      "outputs": []
    },
    {
      "cell_type": "code",
      "source": [
        "combined_df['end_station_id'] = combined_df['end_station_id'].astype('Int64')\n",
        "combined_df['start_station_id'] = combined_df['start_station_id'].astype('Int64')"
      ],
      "metadata": {
        "id": "lv1sCtV30bzd"
      },
      "execution_count": null,
      "outputs": []
    },
    {
      "cell_type": "code",
      "source": [
        "cols = combined_df.columns.tolist()"
      ],
      "metadata": {
        "id": "WGMd2Cu70jLA"
      },
      "execution_count": null,
      "outputs": []
    },
    {
      "cell_type": "code",
      "source": [
        "combined_df = combined_df[['ride_id','started_at', 'ended_at','start_station_id','start_station_name','end_station_id','end_station_name','year']]"
      ],
      "metadata": {
        "id": "jAohdSTn0mXV"
      },
      "execution_count": null,
      "outputs": []
    },
    {
      "cell_type": "code",
      "source": [
        "\n",
        "combined_df['started_at']= pd.to_datetime(combined_df['started_at'])\n",
        "combined_df['ended_at'] = pd.to_datetime(combined_df['ended_at'])"
      ],
      "metadata": {
        "id": "GfuIP-Um0qdZ"
      },
      "execution_count": null,
      "outputs": []
    },
    {
      "cell_type": "code",
      "source": [
        "combined_df.fillna({'end_station_id': 0}, inplace=True)"
      ],
      "metadata": {
        "id": "TaeoL1fB31Qs"
      },
      "execution_count": null,
      "outputs": []
    },
    {
      "cell_type": "code",
      "source": [
        "combined_df.dtypes"
      ],
      "metadata": {
        "colab": {
          "base_uri": "https://localhost:8080/",
          "height": 335
        },
        "id": "POEGVJxF1VvY",
        "outputId": "900aad36-1db6-4ae5-99e9-c65674074fda"
      },
      "execution_count": null,
      "outputs": [
        {
          "output_type": "execute_result",
          "data": {
            "text/plain": [
              "ride_id                       object\n",
              "started_at            datetime64[ns]\n",
              "ended_at              datetime64[ns]\n",
              "start_station_id               Int64\n",
              "start_station_name            object\n",
              "end_station_id                 Int64\n",
              "end_station_name              object\n",
              "year                           int64\n",
              "dtype: object"
            ],
            "text/html": [
              "<div>\n",
              "<style scoped>\n",
              "    .dataframe tbody tr th:only-of-type {\n",
              "        vertical-align: middle;\n",
              "    }\n",
              "\n",
              "    .dataframe tbody tr th {\n",
              "        vertical-align: top;\n",
              "    }\n",
              "\n",
              "    .dataframe thead th {\n",
              "        text-align: right;\n",
              "    }\n",
              "</style>\n",
              "<table border=\"1\" class=\"dataframe\">\n",
              "  <thead>\n",
              "    <tr style=\"text-align: right;\">\n",
              "      <th></th>\n",
              "      <th>0</th>\n",
              "    </tr>\n",
              "  </thead>\n",
              "  <tbody>\n",
              "    <tr>\n",
              "      <th>ride_id</th>\n",
              "      <td>object</td>\n",
              "    </tr>\n",
              "    <tr>\n",
              "      <th>started_at</th>\n",
              "      <td>datetime64[ns]</td>\n",
              "    </tr>\n",
              "    <tr>\n",
              "      <th>ended_at</th>\n",
              "      <td>datetime64[ns]</td>\n",
              "    </tr>\n",
              "    <tr>\n",
              "      <th>start_station_id</th>\n",
              "      <td>Int64</td>\n",
              "    </tr>\n",
              "    <tr>\n",
              "      <th>start_station_name</th>\n",
              "      <td>object</td>\n",
              "    </tr>\n",
              "    <tr>\n",
              "      <th>end_station_id</th>\n",
              "      <td>Int64</td>\n",
              "    </tr>\n",
              "    <tr>\n",
              "      <th>end_station_name</th>\n",
              "      <td>object</td>\n",
              "    </tr>\n",
              "    <tr>\n",
              "      <th>year</th>\n",
              "      <td>int64</td>\n",
              "    </tr>\n",
              "  </tbody>\n",
              "</table>\n",
              "</div><br><label><b>dtype:</b> object</label>"
            ]
          },
          "metadata": {},
          "execution_count": 99
        }
      ]
    },
    {
      "cell_type": "code",
      "source": [
        "schema = types.StructType([\n",
        "    types.StructField(\"ride_id\", types.StringType(), True),\n",
        "    types.StructField(\"started_at\", types.TimestampType(), True),\n",
        "    types.StructField(\"ended_at\", types.TimestampType(), True),\n",
        "    types.StructField(\"start_station_id\", types.LongType(), True),\n",
        "    types.StructField(\"start_station_name\", types.StringType(), True),\n",
        "    types.StructField(\"end_station_id\", types.LongType(), True),\n",
        "    types.StructField(\"end_station_name\", types.StringType(), True),\n",
        "    types.StructField(\"year\", types.LongType(), True),\n",
        "\n",
        "])"
      ],
      "metadata": {
        "id": "l9ij03xj0svP"
      },
      "execution_count": null,
      "outputs": []
    },
    {
      "cell_type": "code",
      "source": [
        "spark = SparkSession.builder.appName(\"Exercise6\").enableHiveSupport().getOrCreate()"
      ],
      "metadata": {
        "id": "RZpLR3ctg13O"
      },
      "execution_count": 20,
      "outputs": []
    },
    {
      "cell_type": "code",
      "source": [
        "spark.conf.set(\"spark.sql.legacy.timeParserPolicy\", \"LEGACY\")"
      ],
      "metadata": {
        "id": "Z3AsRIGMJY2J"
      },
      "execution_count": 21,
      "outputs": []
    },
    {
      "cell_type": "code",
      "source": [
        "spark.createDataFrame(combined_df).schema"
      ],
      "metadata": {
        "colab": {
          "base_uri": "https://localhost:8080/"
        },
        "id": "0f3J_u9L1nGW",
        "outputId": "fd0e0d19-6f03-4186-e647-cddf707e5d3e"
      },
      "execution_count": null,
      "outputs": [
        {
          "output_type": "execute_result",
          "data": {
            "text/plain": [
              "StructType([StructField('ride_id', StringType(), True), StructField('started_at', TimestampType(), True), StructField('ended_at', TimestampType(), True), StructField('start_station_id', LongType(), True), StructField('start_station_name', StringType(), True), StructField('end_station_id', LongType(), True), StructField('end_station_name', StringType(), True), StructField('year', LongType(), True)])"
            ]
          },
          "metadata": {},
          "execution_count": 103
        }
      ]
    },
    {
      "cell_type": "code",
      "source": [
        "sparkDF = spark.createDataFrame(combined_df, schema = schema)"
      ],
      "metadata": {
        "id": "3IwGAJOvhL4A"
      },
      "execution_count": null,
      "outputs": []
    },
    {
      "cell_type": "code",
      "source": [
        "sparkDF.show()"
      ],
      "metadata": {
        "colab": {
          "base_uri": "https://localhost:8080/"
        },
        "id": "9fJtBqHqhzqa",
        "outputId": "e2be85d2-111d-4b76-dc8d-57a957db7161"
      },
      "execution_count": null,
      "outputs": [
        {
          "output_type": "stream",
          "name": "stdout",
          "text": [
            "+--------+-------------------+-------------------+----------------+--------------------+--------------+--------------------+----+\n",
            "| ride_id|         started_at|           ended_at|start_station_id|  start_station_name|end_station_id|    end_station_name|year|\n",
            "+--------+-------------------+-------------------+----------------+--------------------+--------------+--------------------+----+\n",
            "|25223640|2019-10-01 00:01:39|2019-10-01 00:17:20|              20|Sheffield Ave & K...|           309|Leavitt St & Armi...|2019|\n",
            "|25223641|2019-10-01 00:02:16|2019-10-01 00:06:34|              19|Throop (Loomis) S...|           241| Morgan St & Polk St|2019|\n",
            "|25223642|2019-10-01 00:04:32|2019-10-01 00:18:43|              84|Milwaukee Ave & G...|           199|Wabash Ave & Gran...|2019|\n",
            "|25223643|2019-10-01 00:04:32|2019-10-01 00:43:43|             313|Lakeview Ave & Fu...|           290|Kedzie Ave & Palm...|2019|\n",
            "|25223644|2019-10-01 00:04:34|2019-10-01 00:35:42|             210|Ashland Ave & Div...|           382|Western Ave & Con...|2019|\n",
            "|25223645|2019-10-01 00:04:38|2019-10-01 00:10:51|             156|Clark St & Wellin...|           226|Racine Ave & Belm...|2019|\n",
            "|25223646|2019-10-01 00:04:52|2019-10-01 00:22:45|              84|Milwaukee Ave & G...|           142|McClurg Ct & Erie St|2019|\n",
            "|25223647|2019-10-01 00:04:57|2019-10-01 00:29:16|             156|Clark St & Wellin...|           463|Clark St & Berwyn...|2019|\n",
            "|25223648|2019-10-01 00:05:20|2019-10-01 00:29:18|             156|Clark St & Wellin...|           463|Clark St & Berwyn...|2019|\n",
            "|25223649|2019-10-01 00:05:20|2019-10-01 02:23:46|             336|Cottage Grove Ave...|           336|Cottage Grove Ave...|2019|\n",
            "|25223650|2019-10-01 00:05:30|2019-10-01 00:37:36|              77|Clinton St & Madi...|           506|Spaulding Ave & A...|2019|\n",
            "|25223651|2019-10-01 00:07:25|2019-10-01 00:19:53|             198|Green St & Madiso...|           331|Halsted St & Clyb...|2019|\n",
            "|25223652|2019-10-01 00:08:40|2019-10-01 00:26:00|              66|Clinton St & Lake St|            16|Paulina Ave & Nor...|2019|\n",
            "|25223653|2019-10-01 00:08:52|2019-10-01 00:29:17|             240|Sheridan Rd & Irv...|           230|Lincoln Ave & Ros...|2019|\n",
            "|25223655|2019-10-01 00:10:03|2019-10-01 00:15:30|              66|Clinton St & Lake St|            88|Racine Ave & Rand...|2019|\n",
            "|25223656|2019-10-01 00:10:46|2019-10-01 00:16:04|             373|Kedzie Ave & Chic...|           377|Kedzie Ave & Lake St|2019|\n",
            "|25223657|2019-10-01 00:12:04|2019-10-01 01:13:36|              74|Kingsbury St & Er...|           402|Shields Ave & 31s...|2019|\n",
            "|25223658|2019-10-01 00:12:47|2019-10-01 00:17:55|             289|Wells St & Concor...|           176|   Clark St & Elm St|2019|\n",
            "|25223659|2019-10-01 00:13:21|2019-10-01 00:34:12|             106|State St & Pearso...|           334|Lake Shore Dr & B...|2019|\n",
            "|25223660|2019-10-01 00:15:07|2019-10-01 00:40:34|             133|Kingsbury St & Ki...|           673|Lincoln Park Cons...|2019|\n",
            "+--------+-------------------+-------------------+----------------+--------------------+--------------+--------------------+----+\n",
            "only showing top 20 rows\n",
            "\n"
          ]
        }
      ]
    },
    {
      "cell_type": "code",
      "source": [
        "def output_average_trip_duration(df, output_file_path):\n",
        "  df_new = df.withColumn('start_time_ts', unix_timestamp('started_at'))\\\n",
        "                      .withColumn('end_time_ts', unix_timestamp('ended_at'))\n",
        "  df_new = df_new.withColumn('days_diff', col('end_time_ts').cast('long') - col('start_time_ts').cast('long'))\n",
        "  df_new = df_new.withColumn(\"day\", to_date(col(\"started_at\")))\n",
        "  df_new = df_new.groupBy(\"day\").agg(mean(\"days_diff\").alias(\"trip_duration\"))\n",
        "  # select only day and average_trip_duration columns\n",
        "  df_new = df_new.orderBy(\"day\")\n",
        "  df_new = df_new.dropna()\n",
        "  write_to_csv(df_new, output_file_path)\n"
      ],
      "metadata": {
        "id": "BRj4XwmfobjO"
      },
      "execution_count": null,
      "outputs": []
    },
    {
      "cell_type": "markdown",
      "source": [],
      "metadata": {
        "id": "nMguCCsfap21"
      }
    },
    {
      "cell_type": "code",
      "source": [
        "output_average_trip_duration(sparkDF, \"/content/drive/MyDrive/reports/report1\")\n",
        "#"
      ],
      "metadata": {
        "id": "YJLQgcU6titp"
      },
      "execution_count": null,
      "outputs": []
    },
    {
      "cell_type": "code",
      "source": [
        "def output_trips_per_day(df, output_file_path):\n",
        "  df_new = df.withColumn(\"day\", to_date(col(\"started_at\")))\n",
        "  df_new = df_new.groupBy(\"day\").count()\n",
        "  df_new = df_new.orderBy(\"day\")\n",
        "  write_to_csv(df_new, output_file_path)"
      ],
      "metadata": {
        "id": "dUbLO01IX8b3"
      },
      "execution_count": null,
      "outputs": []
    },
    {
      "cell_type": "code",
      "source": [
        "output_trips_per_day(sparkDF, \"/content/drive/MyDrive/reports/report2\")"
      ],
      "metadata": {
        "id": "XEXzyLVIYOtc"
      },
      "execution_count": null,
      "outputs": []
    },
    {
      "cell_type": "code",
      "source": [
        "def output_most_popular_start_stations_for_each_month(df, output_file_path):\n",
        "  df_new = df.withColumn(\"month\", month(col(\"started_at\")))\n",
        "  df_new = df_new.dropna(subset=[\"start_station_id\"])\n",
        "  df_new = df_new.groupBy(\"month\", \"year\", \"start_station_id\", \"start_station_name\").count()\n",
        "  df_new = df_new.orderBy(\"count\", \"month\", \"year\", ascending=[False, True, True])\n",
        "  df_new.show()\n",
        "  write_to_csv(df_new, output_file_path)"
      ],
      "metadata": {
        "id": "kg7leRMbZcd-"
      },
      "execution_count": null,
      "outputs": []
    },
    {
      "cell_type": "code",
      "source": [
        "output_most_popular_start_stations_for_each_month(sparkDF, \"/content/drive/MyDrive/reports/report3\")"
      ],
      "metadata": {
        "id": "h33Iad4waAAZ",
        "colab": {
          "base_uri": "https://localhost:8080/"
        },
        "outputId": "3f1b5b63-df4d-480e-e33f-52233ec95208"
      },
      "execution_count": null,
      "outputs": [
        {
          "output_type": "stream",
          "name": "stdout",
          "text": [
            "+-----+----+----------------+--------------------+-----+\n",
            "|month|year|start_station_id|  start_station_name|count|\n",
            "+-----+----+----------------+--------------------+-----+\n",
            "|   10|2019|             192| Canal St & Adams St| 6564|\n",
            "|   10|2019|              77|Clinton St & Madi...| 5340|\n",
            "|   10|2019|              91|Clinton St & Wash...| 4921|\n",
            "|   10|2019|              35|Streeter Dr & Gra...| 4553|\n",
            "|   10|2019|              76|Lake Shore Dr & M...| 3981|\n",
            "|   10|2019|             195|Columbus Dr & Ran...| 3925|\n",
            "|   10|2019|             287|Franklin St & Mon...| 3741|\n",
            "|   10|2019|             133|Kingsbury St & Ki...| 3497|\n",
            "|   11|2019|             192| Canal St & Adams St| 3445|\n",
            "|   10|2019|              81|  Daley Center Plaza| 3387|\n",
            "|   10|2019|              43|Michigan Ave & Wa...| 3294|\n",
            "|    1|2020|             192| Canal St & Adams St| 3241|\n",
            "|    3|2020|             675|               HQ QR| 3210|\n",
            "|   12|2019|             192| Canal St & Adams St| 2928|\n",
            "|    1|2020|              77|Clinton St & Madi...| 2873|\n",
            "|   10|2019|             283|LaSalle St & Jack...| 2865|\n",
            "|   10|2019|             174|Canal St & Madiso...| 2823|\n",
            "|    2|2020|             192| Canal St & Adams St| 2782|\n",
            "|   11|2019|              77|Clinton St & Madi...| 2758|\n",
            "|   10|2019|              90|     Millennium Park| 2725|\n",
            "+-----+----+----------------+--------------------+-----+\n",
            "only showing top 20 rows\n",
            "\n"
          ]
        }
      ]
    },
    {
      "cell_type": "code",
      "source": [
        "def output_top_three_stations_each_day_for_last_two_weeks(df, output_file_path):\n",
        "  df_new = df.withColumn(\"day\", to_date(col(\"started_at\")))\n",
        "  df_new = df_new.withColumn(\"week\", date_format(to_date(\"day\", \"yyyy-mm-dddd\"), \"W\"))\n",
        "  df_new = df_new.filter((col(\"week\") == \"3\") | (col(\"week\") == \"4\"))\n",
        "  df_new = df_new.withColumn(\"station_usage\", array(col(\"start_station_name\"), col(\"end_station_name\")))\n",
        "  df_new = df_new.select(\"day\", explode(\"station_usage\").alias(\"station_name\"))\n",
        "  df_new = df_new.groupBy(\"day\", \"station_name\").count()\n",
        "  df_new = df_new.orderBy(\"day\", \"count\", ascending=[True, False])\n",
        "  window = Window.partitionBy(\"day\").orderBy(col(\"count\").desc())\n",
        "  df_new = df_new.withColumn(\"rank\", rank().over(window))\n",
        "  df_new = df_new.filter(col(\"rank\") <= 3)\n",
        "  df_new = df_new.select(\"day\", \"station_name\", \"count\")\n",
        "  write_to_csv(df_new, output_file_path)"
      ],
      "metadata": {
        "id": "Cuqh_6peGD91"
      },
      "execution_count": null,
      "outputs": []
    },
    {
      "cell_type": "code",
      "source": [
        "output_top_three_stations_each_day_for_last_two_weeks(sparkDF, \"/content/drive/MyDrive/reports/report4\")"
      ],
      "metadata": {
        "id": "l7ilFrZgRYS6"
      },
      "execution_count": null,
      "outputs": []
    },
    {
      "cell_type": "code",
      "source": [
        "df_2019.drop(columns=['tripduration'], inplace=True)"
      ],
      "metadata": {
        "id": "lyyBPbgbDTlM"
      },
      "execution_count": 16,
      "outputs": []
    },
    {
      "cell_type": "code",
      "source": [
        "\n",
        "df_2019['started_at']= pd.to_datetime(df_2019['started_at'])\n",
        "df_2019['ended_at'] = pd.to_datetime(df_2019['ended_at'])"
      ],
      "metadata": {
        "id": "cXHsZClzKAFC"
      },
      "execution_count": 17,
      "outputs": []
    },
    {
      "cell_type": "code",
      "source": [
        "df_2019.head()"
      ],
      "metadata": {
        "colab": {
          "base_uri": "https://localhost:8080/",
          "height": 206
        },
        "id": "SRL-qTzj9DiC",
        "outputId": "de94b46e-37c8-47c2-81d8-886be8f3e97c"
      },
      "execution_count": 18,
      "outputs": [
        {
          "output_type": "execute_result",
          "data": {
            "text/plain": [
              "    ride_id          started_at            ended_at  bikeid  start_station_id  \\\n",
              "0  25223640 2019-10-01 00:01:39 2019-10-01 00:17:20    2215                20   \n",
              "1  25223641 2019-10-01 00:02:16 2019-10-01 00:06:34    6328                19   \n",
              "2  25223642 2019-10-01 00:04:32 2019-10-01 00:18:43    3003                84   \n",
              "3  25223643 2019-10-01 00:04:32 2019-10-01 00:43:43    3275               313   \n",
              "4  25223644 2019-10-01 00:04:34 2019-10-01 00:35:42    5294               210   \n",
              "\n",
              "               start_station_name  end_station_id  \\\n",
              "0    Sheffield Ave & Kingsbury St             309   \n",
              "1  Throop (Loomis) St & Taylor St             241   \n",
              "2       Milwaukee Ave & Grand Ave             199   \n",
              "3   Lakeview Ave & Fullerton Pkwy             290   \n",
              "4       Ashland Ave & Division St             382   \n",
              "\n",
              "              end_station_name    usertype  gender  birthyear  year  \n",
              "0    Leavitt St & Armitage Ave  Subscriber    Male       1987  2019  \n",
              "1          Morgan St & Polk St  Subscriber    Male       1998  2019  \n",
              "2       Wabash Ave & Grand Ave  Subscriber  Female       1991  2019  \n",
              "3       Kedzie Ave & Palmer Ct  Subscriber    Male       1990  2019  \n",
              "4  Western Ave & Congress Pkwy  Subscriber    Male       1987  2019  "
            ],
            "text/html": [
              "\n",
              "  <div id=\"df-57caa981-d87d-4253-924a-d54add0581c2\" class=\"colab-df-container\">\n",
              "    <div>\n",
              "<style scoped>\n",
              "    .dataframe tbody tr th:only-of-type {\n",
              "        vertical-align: middle;\n",
              "    }\n",
              "\n",
              "    .dataframe tbody tr th {\n",
              "        vertical-align: top;\n",
              "    }\n",
              "\n",
              "    .dataframe thead th {\n",
              "        text-align: right;\n",
              "    }\n",
              "</style>\n",
              "<table border=\"1\" class=\"dataframe\">\n",
              "  <thead>\n",
              "    <tr style=\"text-align: right;\">\n",
              "      <th></th>\n",
              "      <th>ride_id</th>\n",
              "      <th>started_at</th>\n",
              "      <th>ended_at</th>\n",
              "      <th>bikeid</th>\n",
              "      <th>start_station_id</th>\n",
              "      <th>start_station_name</th>\n",
              "      <th>end_station_id</th>\n",
              "      <th>end_station_name</th>\n",
              "      <th>usertype</th>\n",
              "      <th>gender</th>\n",
              "      <th>birthyear</th>\n",
              "      <th>year</th>\n",
              "    </tr>\n",
              "  </thead>\n",
              "  <tbody>\n",
              "    <tr>\n",
              "      <th>0</th>\n",
              "      <td>25223640</td>\n",
              "      <td>2019-10-01 00:01:39</td>\n",
              "      <td>2019-10-01 00:17:20</td>\n",
              "      <td>2215</td>\n",
              "      <td>20</td>\n",
              "      <td>Sheffield Ave &amp; Kingsbury St</td>\n",
              "      <td>309</td>\n",
              "      <td>Leavitt St &amp; Armitage Ave</td>\n",
              "      <td>Subscriber</td>\n",
              "      <td>Male</td>\n",
              "      <td>1987</td>\n",
              "      <td>2019</td>\n",
              "    </tr>\n",
              "    <tr>\n",
              "      <th>1</th>\n",
              "      <td>25223641</td>\n",
              "      <td>2019-10-01 00:02:16</td>\n",
              "      <td>2019-10-01 00:06:34</td>\n",
              "      <td>6328</td>\n",
              "      <td>19</td>\n",
              "      <td>Throop (Loomis) St &amp; Taylor St</td>\n",
              "      <td>241</td>\n",
              "      <td>Morgan St &amp; Polk St</td>\n",
              "      <td>Subscriber</td>\n",
              "      <td>Male</td>\n",
              "      <td>1998</td>\n",
              "      <td>2019</td>\n",
              "    </tr>\n",
              "    <tr>\n",
              "      <th>2</th>\n",
              "      <td>25223642</td>\n",
              "      <td>2019-10-01 00:04:32</td>\n",
              "      <td>2019-10-01 00:18:43</td>\n",
              "      <td>3003</td>\n",
              "      <td>84</td>\n",
              "      <td>Milwaukee Ave &amp; Grand Ave</td>\n",
              "      <td>199</td>\n",
              "      <td>Wabash Ave &amp; Grand Ave</td>\n",
              "      <td>Subscriber</td>\n",
              "      <td>Female</td>\n",
              "      <td>1991</td>\n",
              "      <td>2019</td>\n",
              "    </tr>\n",
              "    <tr>\n",
              "      <th>3</th>\n",
              "      <td>25223643</td>\n",
              "      <td>2019-10-01 00:04:32</td>\n",
              "      <td>2019-10-01 00:43:43</td>\n",
              "      <td>3275</td>\n",
              "      <td>313</td>\n",
              "      <td>Lakeview Ave &amp; Fullerton Pkwy</td>\n",
              "      <td>290</td>\n",
              "      <td>Kedzie Ave &amp; Palmer Ct</td>\n",
              "      <td>Subscriber</td>\n",
              "      <td>Male</td>\n",
              "      <td>1990</td>\n",
              "      <td>2019</td>\n",
              "    </tr>\n",
              "    <tr>\n",
              "      <th>4</th>\n",
              "      <td>25223644</td>\n",
              "      <td>2019-10-01 00:04:34</td>\n",
              "      <td>2019-10-01 00:35:42</td>\n",
              "      <td>5294</td>\n",
              "      <td>210</td>\n",
              "      <td>Ashland Ave &amp; Division St</td>\n",
              "      <td>382</td>\n",
              "      <td>Western Ave &amp; Congress Pkwy</td>\n",
              "      <td>Subscriber</td>\n",
              "      <td>Male</td>\n",
              "      <td>1987</td>\n",
              "      <td>2019</td>\n",
              "    </tr>\n",
              "  </tbody>\n",
              "</table>\n",
              "</div>\n",
              "    <div class=\"colab-df-buttons\">\n",
              "\n",
              "  <div class=\"colab-df-container\">\n",
              "    <button class=\"colab-df-convert\" onclick=\"convertToInteractive('df-57caa981-d87d-4253-924a-d54add0581c2')\"\n",
              "            title=\"Convert this dataframe to an interactive table.\"\n",
              "            style=\"display:none;\">\n",
              "\n",
              "  <svg xmlns=\"http://www.w3.org/2000/svg\" height=\"24px\" viewBox=\"0 -960 960 960\">\n",
              "    <path d=\"M120-120v-720h720v720H120Zm60-500h600v-160H180v160Zm220 220h160v-160H400v160Zm0 220h160v-160H400v160ZM180-400h160v-160H180v160Zm440 0h160v-160H620v160ZM180-180h160v-160H180v160Zm440 0h160v-160H620v160Z\"/>\n",
              "  </svg>\n",
              "    </button>\n",
              "\n",
              "  <style>\n",
              "    .colab-df-container {\n",
              "      display:flex;\n",
              "      gap: 12px;\n",
              "    }\n",
              "\n",
              "    .colab-df-convert {\n",
              "      background-color: #E8F0FE;\n",
              "      border: none;\n",
              "      border-radius: 50%;\n",
              "      cursor: pointer;\n",
              "      display: none;\n",
              "      fill: #1967D2;\n",
              "      height: 32px;\n",
              "      padding: 0 0 0 0;\n",
              "      width: 32px;\n",
              "    }\n",
              "\n",
              "    .colab-df-convert:hover {\n",
              "      background-color: #E2EBFA;\n",
              "      box-shadow: 0px 1px 2px rgba(60, 64, 67, 0.3), 0px 1px 3px 1px rgba(60, 64, 67, 0.15);\n",
              "      fill: #174EA6;\n",
              "    }\n",
              "\n",
              "    .colab-df-buttons div {\n",
              "      margin-bottom: 4px;\n",
              "    }\n",
              "\n",
              "    [theme=dark] .colab-df-convert {\n",
              "      background-color: #3B4455;\n",
              "      fill: #D2E3FC;\n",
              "    }\n",
              "\n",
              "    [theme=dark] .colab-df-convert:hover {\n",
              "      background-color: #434B5C;\n",
              "      box-shadow: 0px 1px 3px 1px rgba(0, 0, 0, 0.15);\n",
              "      filter: drop-shadow(0px 1px 2px rgba(0, 0, 0, 0.3));\n",
              "      fill: #FFFFFF;\n",
              "    }\n",
              "  </style>\n",
              "\n",
              "    <script>\n",
              "      const buttonEl =\n",
              "        document.querySelector('#df-57caa981-d87d-4253-924a-d54add0581c2 button.colab-df-convert');\n",
              "      buttonEl.style.display =\n",
              "        google.colab.kernel.accessAllowed ? 'block' : 'none';\n",
              "\n",
              "      async function convertToInteractive(key) {\n",
              "        const element = document.querySelector('#df-57caa981-d87d-4253-924a-d54add0581c2');\n",
              "        const dataTable =\n",
              "          await google.colab.kernel.invokeFunction('convertToInteractive',\n",
              "                                                    [key], {});\n",
              "        if (!dataTable) return;\n",
              "\n",
              "        const docLinkHtml = 'Like what you see? Visit the ' +\n",
              "          '<a target=\"_blank\" href=https://colab.research.google.com/notebooks/data_table.ipynb>data table notebook</a>'\n",
              "          + ' to learn more about interactive tables.';\n",
              "        element.innerHTML = '';\n",
              "        dataTable['output_type'] = 'display_data';\n",
              "        await google.colab.output.renderOutput(dataTable, element);\n",
              "        const docLink = document.createElement('div');\n",
              "        docLink.innerHTML = docLinkHtml;\n",
              "        element.appendChild(docLink);\n",
              "      }\n",
              "    </script>\n",
              "  </div>\n",
              "\n",
              "\n",
              "    <div id=\"df-4563f330-b2be-45c6-b5c7-e591d4a068f5\">\n",
              "      <button class=\"colab-df-quickchart\" onclick=\"quickchart('df-4563f330-b2be-45c6-b5c7-e591d4a068f5')\"\n",
              "                title=\"Suggest charts\"\n",
              "                style=\"display:none;\">\n",
              "\n",
              "<svg xmlns=\"http://www.w3.org/2000/svg\" height=\"24px\"viewBox=\"0 0 24 24\"\n",
              "     width=\"24px\">\n",
              "    <g>\n",
              "        <path d=\"M19 3H5c-1.1 0-2 .9-2 2v14c0 1.1.9 2 2 2h14c1.1 0 2-.9 2-2V5c0-1.1-.9-2-2-2zM9 17H7v-7h2v7zm4 0h-2V7h2v10zm4 0h-2v-4h2v4z\"/>\n",
              "    </g>\n",
              "</svg>\n",
              "      </button>\n",
              "\n",
              "<style>\n",
              "  .colab-df-quickchart {\n",
              "      --bg-color: #E8F0FE;\n",
              "      --fill-color: #1967D2;\n",
              "      --hover-bg-color: #E2EBFA;\n",
              "      --hover-fill-color: #174EA6;\n",
              "      --disabled-fill-color: #AAA;\n",
              "      --disabled-bg-color: #DDD;\n",
              "  }\n",
              "\n",
              "  [theme=dark] .colab-df-quickchart {\n",
              "      --bg-color: #3B4455;\n",
              "      --fill-color: #D2E3FC;\n",
              "      --hover-bg-color: #434B5C;\n",
              "      --hover-fill-color: #FFFFFF;\n",
              "      --disabled-bg-color: #3B4455;\n",
              "      --disabled-fill-color: #666;\n",
              "  }\n",
              "\n",
              "  .colab-df-quickchart {\n",
              "    background-color: var(--bg-color);\n",
              "    border: none;\n",
              "    border-radius: 50%;\n",
              "    cursor: pointer;\n",
              "    display: none;\n",
              "    fill: var(--fill-color);\n",
              "    height: 32px;\n",
              "    padding: 0;\n",
              "    width: 32px;\n",
              "  }\n",
              "\n",
              "  .colab-df-quickchart:hover {\n",
              "    background-color: var(--hover-bg-color);\n",
              "    box-shadow: 0 1px 2px rgba(60, 64, 67, 0.3), 0 1px 3px 1px rgba(60, 64, 67, 0.15);\n",
              "    fill: var(--button-hover-fill-color);\n",
              "  }\n",
              "\n",
              "  .colab-df-quickchart-complete:disabled,\n",
              "  .colab-df-quickchart-complete:disabled:hover {\n",
              "    background-color: var(--disabled-bg-color);\n",
              "    fill: var(--disabled-fill-color);\n",
              "    box-shadow: none;\n",
              "  }\n",
              "\n",
              "  .colab-df-spinner {\n",
              "    border: 2px solid var(--fill-color);\n",
              "    border-color: transparent;\n",
              "    border-bottom-color: var(--fill-color);\n",
              "    animation:\n",
              "      spin 1s steps(1) infinite;\n",
              "  }\n",
              "\n",
              "  @keyframes spin {\n",
              "    0% {\n",
              "      border-color: transparent;\n",
              "      border-bottom-color: var(--fill-color);\n",
              "      border-left-color: var(--fill-color);\n",
              "    }\n",
              "    20% {\n",
              "      border-color: transparent;\n",
              "      border-left-color: var(--fill-color);\n",
              "      border-top-color: var(--fill-color);\n",
              "    }\n",
              "    30% {\n",
              "      border-color: transparent;\n",
              "      border-left-color: var(--fill-color);\n",
              "      border-top-color: var(--fill-color);\n",
              "      border-right-color: var(--fill-color);\n",
              "    }\n",
              "    40% {\n",
              "      border-color: transparent;\n",
              "      border-right-color: var(--fill-color);\n",
              "      border-top-color: var(--fill-color);\n",
              "    }\n",
              "    60% {\n",
              "      border-color: transparent;\n",
              "      border-right-color: var(--fill-color);\n",
              "    }\n",
              "    80% {\n",
              "      border-color: transparent;\n",
              "      border-right-color: var(--fill-color);\n",
              "      border-bottom-color: var(--fill-color);\n",
              "    }\n",
              "    90% {\n",
              "      border-color: transparent;\n",
              "      border-bottom-color: var(--fill-color);\n",
              "    }\n",
              "  }\n",
              "</style>\n",
              "\n",
              "      <script>\n",
              "        async function quickchart(key) {\n",
              "          const quickchartButtonEl =\n",
              "            document.querySelector('#' + key + ' button');\n",
              "          quickchartButtonEl.disabled = true;  // To prevent multiple clicks.\n",
              "          quickchartButtonEl.classList.add('colab-df-spinner');\n",
              "          try {\n",
              "            const charts = await google.colab.kernel.invokeFunction(\n",
              "                'suggestCharts', [key], {});\n",
              "          } catch (error) {\n",
              "            console.error('Error during call to suggestCharts:', error);\n",
              "          }\n",
              "          quickchartButtonEl.classList.remove('colab-df-spinner');\n",
              "          quickchartButtonEl.classList.add('colab-df-quickchart-complete');\n",
              "        }\n",
              "        (() => {\n",
              "          let quickchartButtonEl =\n",
              "            document.querySelector('#df-4563f330-b2be-45c6-b5c7-e591d4a068f5 button');\n",
              "          quickchartButtonEl.style.display =\n",
              "            google.colab.kernel.accessAllowed ? 'block' : 'none';\n",
              "        })();\n",
              "      </script>\n",
              "    </div>\n",
              "\n",
              "    </div>\n",
              "  </div>\n"
            ],
            "application/vnd.google.colaboratory.intrinsic+json": {
              "type": "dataframe",
              "variable_name": "df_2019"
            }
          },
          "metadata": {},
          "execution_count": 18
        }
      ]
    },
    {
      "cell_type": "code",
      "source": [
        "spark.createDataFrame(df_2019).schema"
      ],
      "metadata": {
        "colab": {
          "base_uri": "https://localhost:8080/"
        },
        "id": "fNS51Udl-Kjk",
        "outputId": "6a74fa8f-d596-4487-8075-813a100886b6"
      },
      "execution_count": 22,
      "outputs": [
        {
          "output_type": "execute_result",
          "data": {
            "text/plain": [
              "StructType([StructField('ride_id', StringType(), True), StructField('started_at', TimestampType(), True), StructField('ended_at', TimestampType(), True), StructField('bikeid', LongType(), True), StructField('start_station_id', LongType(), True), StructField('start_station_name', StringType(), True), StructField('end_station_id', LongType(), True), StructField('end_station_name', StringType(), True), StructField('usertype', StringType(), True), StructField('gender', StringType(), True), StructField('birthyear', DoubleType(), True), StructField('year', LongType(), True)])"
            ]
          },
          "metadata": {},
          "execution_count": 22
        }
      ]
    },
    {
      "cell_type": "code",
      "source": [
        "schema = types.StructType([\n",
        "    types.StructField(\"ride_id\", types.StringType(), True),\n",
        "    types.StructField(\"started_at\", types.TimestampType(), True),\n",
        "    types.StructField(\"ended_at\", types.TimestampType(), True),\n",
        "     types.StructField(\"bikeid\", types.LongType(), True),\n",
        "    types.StructField(\"start_station_id\", types.LongType(), True),\n",
        "    types.StructField(\"start_station_name\", types.StringType(), True),\n",
        "    types.StructField(\"end_station_id\", types.LongType(), True),\n",
        "    types.StructField(\"end_station_name\", types.StringType(), True),\n",
        "    types.StructField('usertype', types.StringType(), True),\n",
        "    types.StructField(\"gender\", types.StringType(), True),\n",
        "    types.StructField(\"birthyear\", types.LongType(), True),\n",
        "    types.StructField(\"year\", types.LongType(), True),\n",
        "\n",
        "])"
      ],
      "metadata": {
        "id": "NHXYAhCn-kxB"
      },
      "execution_count": 23,
      "outputs": []
    },
    {
      "cell_type": "code",
      "source": [
        "# Convert problematic columns to numeric types before creating the Spark DataFrame\n",
        "for col_name in ['bikeid', 'start_station_id', 'end_station_id', 'year']:\n",
        "    # Convert to numeric and handle NaNs by filling with -1 (or another appropriate value)\n",
        "    df_2019[col_name] = pd.to_numeric(df_2019[col_name], errors='coerce').fillna(-1).astype(int)"
      ],
      "metadata": {
        "id": "Qv2IRknuIoZU"
      },
      "execution_count": 24,
      "outputs": []
    },
    {
      "cell_type": "code",
      "source": [
        "# drop rows where gender is nan\n",
        "#df_2019 = df_2019.dropna(subset=['gender'])"
      ],
      "metadata": {
        "id": "fnO7gi-tN2ST"
      },
      "execution_count": null,
      "outputs": []
    },
    {
      "cell_type": "code",
      "source": [
        "# drop rows where birthyear is nan\n",
        "df_2019 = df_2019.dropna(subset=['birthyear'])"
      ],
      "metadata": {
        "id": "DGz67GIsM_hq"
      },
      "execution_count": 25,
      "outputs": []
    },
    {
      "cell_type": "code",
      "source": [
        "spark_2019_df = spark.createDataFrame(df_2019, schema = schema)"
      ],
      "metadata": {
        "id": "ON69gIcm9neL"
      },
      "execution_count": 26,
      "outputs": []
    },
    {
      "cell_type": "code",
      "source": [
        "spark_2019_df.show()"
      ],
      "metadata": {
        "colab": {
          "base_uri": "https://localhost:8080/"
        },
        "id": "2DBGxd-fI71V",
        "outputId": "136e799d-8eda-4c86-c208-c3aba1250919"
      },
      "execution_count": 27,
      "outputs": [
        {
          "output_type": "stream",
          "name": "stdout",
          "text": [
            "+--------+-------------------+-------------------+------+----------------+--------------------+--------------+--------------------+----------+------+---------+----+\n",
            "| ride_id|         started_at|           ended_at|bikeid|start_station_id|  start_station_name|end_station_id|    end_station_name|  usertype|gender|birthyear|year|\n",
            "+--------+-------------------+-------------------+------+----------------+--------------------+--------------+--------------------+----------+------+---------+----+\n",
            "|25223640|2019-10-01 00:01:39|2019-10-01 00:17:20|  2215|              20|Sheffield Ave & K...|           309|Leavitt St & Armi...|Subscriber|  Male|     1987|2019|\n",
            "|25223641|2019-10-01 00:02:16|2019-10-01 00:06:34|  6328|              19|Throop (Loomis) S...|           241| Morgan St & Polk St|Subscriber|  Male|     1998|2019|\n",
            "|25223642|2019-10-01 00:04:32|2019-10-01 00:18:43|  3003|              84|Milwaukee Ave & G...|           199|Wabash Ave & Gran...|Subscriber|Female|     1991|2019|\n",
            "|25223643|2019-10-01 00:04:32|2019-10-01 00:43:43|  3275|             313|Lakeview Ave & Fu...|           290|Kedzie Ave & Palm...|Subscriber|  Male|     1990|2019|\n",
            "|25223644|2019-10-01 00:04:34|2019-10-01 00:35:42|  5294|             210|Ashland Ave & Div...|           382|Western Ave & Con...|Subscriber|  Male|     1987|2019|\n",
            "|25223645|2019-10-01 00:04:38|2019-10-01 00:10:51|  1891|             156|Clark St & Wellin...|           226|Racine Ave & Belm...|Subscriber|Female|     1994|2019|\n",
            "|25223646|2019-10-01 00:04:52|2019-10-01 00:22:45|  1061|              84|Milwaukee Ave & G...|           142|McClurg Ct & Erie St|Subscriber|Female|     1991|2019|\n",
            "|25223647|2019-10-01 00:04:57|2019-10-01 00:29:16|  1274|             156|Clark St & Wellin...|           463|Clark St & Berwyn...|Subscriber|  Male|     1995|2019|\n",
            "|25223648|2019-10-01 00:05:20|2019-10-01 00:29:18|  6011|             156|Clark St & Wellin...|           463|Clark St & Berwyn...|Subscriber|Female|     1993|2019|\n",
            "|25223650|2019-10-01 00:05:30|2019-10-01 00:37:36|  2564|              77|Clinton St & Madi...|           506|Spaulding Ave & A...|Subscriber|  Male|     1977|2019|\n",
            "|25223651|2019-10-01 00:07:25|2019-10-01 00:19:53|  3601|             198|Green St & Madiso...|           331|Halsted St & Clyb...|Subscriber|Female|     1980|2019|\n",
            "|25223652|2019-10-01 00:08:40|2019-10-01 00:26:00|   711|              66|Clinton St & Lake St|            16|Paulina Ave & Nor...|  Customer|  Male|     1994|2019|\n",
            "|25223655|2019-10-01 00:10:03|2019-10-01 00:15:30|  1730|              66|Clinton St & Lake St|            88|Racine Ave & Rand...|Subscriber|  Male|     1992|2019|\n",
            "|25223657|2019-10-01 00:12:04|2019-10-01 01:13:36|  2958|              74|Kingsbury St & Er...|           402|Shields Ave & 31s...|  Customer|Female|     1962|2019|\n",
            "|25223658|2019-10-01 00:12:47|2019-10-01 00:17:55|  1489|             289|Wells St & Concor...|           176|   Clark St & Elm St|Subscriber|  Male|     1992|2019|\n",
            "|25223660|2019-10-01 00:15:07|2019-10-01 00:40:34|  4228|             133|Kingsbury St & Ki...|           673|Lincoln Park Cons...|  Customer|Female|     1995|2019|\n",
            "|25223663|2019-10-01 00:17:09|2019-10-01 00:22:01|  5232|              13|Wilton Ave & Dive...|           117|Wilton Ave & Belm...|Subscriber|  Male|     1991|2019|\n",
            "|25223664|2019-10-01 00:17:09|2019-10-01 00:29:51|  2188|             491|Talman Ave & Addi...|           630|Kildare Ave & Mon...|  Customer|  Male|     1990|2019|\n",
            "|25223665|2019-10-01 00:18:23|2019-10-01 00:25:17|  6402|             309|Leavitt St & Armi...|           123|California Ave & ...|Subscriber|  Male|     1987|2019|\n",
            "|25223667|2019-10-01 00:20:34|2019-10-01 00:25:03|  5658|             264|Stetson Ave & Sou...|             7|Field Blvd & Sout...|Subscriber|  Male|     1967|2019|\n",
            "+--------+-------------------+-------------------+------+----------------+--------------------+--------------+--------------------+----------+------+---------+----+\n",
            "only showing top 20 rows\n",
            "\n"
          ]
        }
      ]
    },
    {
      "cell_type": "code",
      "source": [
        "def output_average_trip_duration_by_gender(df, output_file_path):\n",
        "  df_new = df.withColumn('start_time_ts', unix_timestamp('started_at'))\\\n",
        "                      .withColumn('end_time_ts', unix_timestamp('ended_at'))\n",
        "  df_new = df_new.withColumn('days_diff', col('end_time_ts').cast('long') - col('start_time_ts').cast('long'))\n",
        "  df_new = df_new.withColumn(\"day\", to_date(col(\"started_at\")))\n",
        "  df_new = df_new.groupBy(\"gender\").agg(mean(\"days_diff\").alias(\"trip_duration\"))\n",
        "  write_to_csv(df_new, output_file_path)\n"
      ],
      "metadata": {
        "id": "Gv912hDfJYmz"
      },
      "execution_count": null,
      "outputs": []
    },
    {
      "cell_type": "code",
      "source": [
        "output_average_trip_duration_by_gender(spark_2019_df, \"/content/drive/MyDrive/reports/report5\")"
      ],
      "metadata": {
        "id": "e6LAe7kGKTOc"
      },
      "execution_count": null,
      "outputs": []
    },
    {
      "cell_type": "code",
      "source": [
        "def output_top_ten_ages_for_longest_trips(df, output_file_path):\n",
        "  df_new = df.withColumn('start_time_ts', unix_timestamp('started_at'))\\\n",
        "                      .withColumn('end_time_ts', unix_timestamp('ended_at'))\n",
        "  df_new = df_new.withColumn('days_diff', col('end_time_ts').cast('long') - col('start_time_ts').cast('long'))\n",
        "  df_new = df_new.withColumn(\"day\", to_date(col(\"started_at\")))\n",
        "  df_new = df_new.withColumn('age', (year(col('started_at')) - col('birthyear')).cast('integer'))\n",
        "  window_spec = Window.partitionBy(\"age\").orderBy(col(\"days_diff\").desc())\n",
        "  longest_trips = df_new.withColumn(\"rank\", row_number().over(window_spec)) \\\n",
        "    .filter(col(\"rank\") == 1) \\\n",
        "    .select(\"age\", \"days_diff\") \\\n",
        "    .orderBy(col(\"days_diff\").desc())\n",
        "\n",
        "  # select only the top 10 rows\n",
        "  longest_trips = longest_trips.limit(10)\n",
        "\n",
        "  write_to_csv(longest_trips, output_file_path)\n"
      ],
      "metadata": {
        "id": "9fXz0beDSbeD"
      },
      "execution_count": 49,
      "outputs": []
    },
    {
      "cell_type": "code",
      "source": [
        "output_top_ten_ages_for_longest_trips(spark_2019_df, \"/content/drive/MyDrive/reports/report6\")"
      ],
      "metadata": {
        "id": "TEFxShK9S9u9"
      },
      "execution_count": 51,
      "outputs": []
    },
    {
      "cell_type": "code",
      "source": [
        "def output_top_ten_ages_for_shortest_trips(df, output_file_path):\n",
        "  df_new = df.withColumn('start_time_ts', unix_timestamp('started_at'))\\\n",
        "                      .withColumn('end_time_ts', unix_timestamp('ended_at'))\n",
        "  df_new = df_new.withColumn('days_diff', col('end_time_ts').cast('long') - col('start_time_ts').cast('long'))\n",
        "  df_new = df_new.withColumn(\"day\", to_date(col(\"started_at\")))\n",
        "  df_new = df_new.withColumn('age', (year(col('started_at')) - col('birthyear')).cast('integer'))\n",
        "  window_spec = Window.partitionBy(\"age\").orderBy(col(\"days_diff\").asc())\n",
        "  shortest_trips = df_new.withColumn(\"rank\", row_number().over(window_spec)) \\\n",
        "    .filter(col(\"rank\") == 1) \\\n",
        "    .select(\"age\", \"days_diff\") \\\n",
        "    .orderBy(col(\"days_diff\").asc())\n",
        "  shortest_trips = shortest_trips.limit(10)\n",
        "  write_to_csv(shortest_trips, output_file_path)\n",
        ""
      ],
      "metadata": {
        "id": "FN4zsTNZTFgu"
      },
      "execution_count": 42,
      "outputs": []
    },
    {
      "cell_type": "code",
      "source": [
        "output_top_ten_ages_for_shortest_trips(spark_2019_df, \"/content/drive/MyDrive/reports/report7\")"
      ],
      "metadata": {
        "id": "3Ddvh61lTZeq"
      },
      "execution_count": 52,
      "outputs": []
    }
  ]
}
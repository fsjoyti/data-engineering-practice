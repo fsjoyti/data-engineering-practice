{
  "nbformat": 4,
  "nbformat_minor": 0,
  "metadata": {
    "colab": {
      "provenance": []
    },
    "kernelspec": {
      "name": "python3",
      "display_name": "Python 3"
    },
    "language_info": {
      "name": "python"
    }
  },
  "cells": [
    {
      "cell_type": "code",
      "execution_count": null,
      "metadata": {
        "id": "lx_oBTBMfBxG"
      },
      "outputs": [],
      "source": [
        "from google.colab import drive"
      ]
    },
    {
      "cell_type": "code",
      "source": [
        "import os\n",
        "import zipfile\n",
        "from zipfile import ZipFile\n",
        "from os import path\n",
        "import pandas as pd\n",
        "from pyspark.sql import SparkSession\n",
        "from pyspark.sql.functions import avg, col, to_timestamp, unix_timestamp,mean, to_date"
      ],
      "metadata": {
        "id": "LqIj3cmvgTxh"
      },
      "execution_count": null,
      "outputs": []
    },
    {
      "cell_type": "code",
      "source": [
        "drive.mount('/content/drive')"
      ],
      "metadata": {
        "colab": {
          "base_uri": "https://localhost:8080/"
        },
        "id": "V0tiXvm-fsFT",
        "outputId": "e95ba666-d580-4143-aa93-f019b9f31647"
      },
      "execution_count": null,
      "outputs": [
        {
          "output_type": "stream",
          "name": "stdout",
          "text": [
            "Drive already mounted at /content/drive; to attempt to forcibly remount, call drive.mount(\"/content/drive\", force_remount=True).\n"
          ]
        }
      ]
    },
    {
      "cell_type": "code",
      "source": [
        "!ls \"/content/drive/MyDrive/data\""
      ],
      "metadata": {
        "colab": {
          "base_uri": "https://localhost:8080/"
        },
        "id": "haqaVEMkf37Y",
        "outputId": "4d5d4490-7f2c-4977-c964-e4eeeca4839c"
      },
      "execution_count": null,
      "outputs": [
        {
          "output_type": "stream",
          "name": "stdout",
          "text": [
            "Divvy_Trips_2019_Q4.zip  Divvy_Trips_2020_Q1.zip\n"
          ]
        }
      ]
    },
    {
      "cell_type": "code",
      "source": [
        "def get_file_paths(root_directory, folder_name, file_extension):\n",
        "    file_paths = []\n",
        "    file_directory = os.path.join(root_directory, folder_name)\n",
        "    for root, _, files in os.walk(file_directory):\n",
        "        for file_name in files:\n",
        "            if file_extension in file_name:\n",
        "                file_paths.append(os.path.join(root, file_name))\n",
        "    return file_paths"
      ],
      "metadata": {
        "id": "ImCsIDRXgC9_"
      },
      "execution_count": null,
      "outputs": []
    },
    {
      "cell_type": "code",
      "source": [
        "def read_zip_files_into_dataframes(zip_file_paths):\n",
        "    df_list = []\n",
        "    for file_path in zip_file_paths:\n",
        "        print(f\"Reading for {file_path}\")\n",
        "        zip_file = ZipFile(file_path)\n",
        "        for text_file in zip_file.infolist():\n",
        "            if text_file.filename.endswith(\n",
        "                \".csv\"\n",
        "            ) and not text_file.filename.startswith(\"__MACOSX\"):\n",
        "                df = pd.read_csv(zip_file.open(text_file.filename))\n",
        "                df_list.append(df)\n",
        "\n",
        "    combined_df = pd.concat(df_list, ignore_index=True)\n",
        "    return combined_df"
      ],
      "metadata": {
        "id": "qMyBX4uXggnt"
      },
      "execution_count": null,
      "outputs": []
    },
    {
      "cell_type": "code",
      "source": [
        "def write_to_csv(df, file_path):\n",
        "  # set mode to overwrite\n",
        "  df.write.mode(\"overwrite\").csv(file_path, header=True)"
      ],
      "metadata": {
        "id": "J98zGIf4XuVs"
      },
      "execution_count": null,
      "outputs": []
    },
    {
      "cell_type": "code",
      "source": [
        "current_directory = os.getcwd()"
      ],
      "metadata": {
        "id": "XLRt8FiZgm5A"
      },
      "execution_count": null,
      "outputs": []
    },
    {
      "cell_type": "code",
      "source": [
        "current_directory"
      ],
      "metadata": {
        "colab": {
          "base_uri": "https://localhost:8080/",
          "height": 36
        },
        "id": "EBHTOvRxgnyQ",
        "outputId": "fd16cb3d-5b70-40c2-d67f-c60ca33460d9"
      },
      "execution_count": null,
      "outputs": [
        {
          "output_type": "execute_result",
          "data": {
            "text/plain": [
              "'/content'"
            ],
            "application/vnd.google.colaboratory.intrinsic+json": {
              "type": "string"
            }
          },
          "metadata": {},
          "execution_count": 9
        }
      ]
    },
    {
      "cell_type": "code",
      "source": [
        "zip_file_paths = get_file_paths(current_directory, r\"/content/drive/MyDrive/data\", \"zip\")"
      ],
      "metadata": {
        "id": "J4GfiGwogv9G"
      },
      "execution_count": null,
      "outputs": []
    },
    {
      "cell_type": "code",
      "source": [
        "zip_file_paths"
      ],
      "metadata": {
        "colab": {
          "base_uri": "https://localhost:8080/"
        },
        "id": "2tH9o2Fpgz5m",
        "outputId": "e7c32c35-a13d-4634-a5cf-da0afb2a519d"
      },
      "execution_count": null,
      "outputs": [
        {
          "output_type": "execute_result",
          "data": {
            "text/plain": [
              "['/content/drive/MyDrive/data/Divvy_Trips_2019_Q4.zip',\n",
              " '/content/drive/MyDrive/data/Divvy_Trips_2020_Q1.zip']"
            ]
          },
          "metadata": {},
          "execution_count": 11
        }
      ]
    },
    {
      "cell_type": "code",
      "source": [
        "spark = SparkSession.builder.appName(\"Exercise6\").enableHiveSupport().getOrCreate()"
      ],
      "metadata": {
        "id": "RZpLR3ctg13O"
      },
      "execution_count": null,
      "outputs": []
    },
    {
      "cell_type": "code",
      "source": [
        "pdf = read_zip_files_into_dataframes(zip_file_paths)"
      ],
      "metadata": {
        "colab": {
          "base_uri": "https://localhost:8080/"
        },
        "id": "7Ir1wepkg905",
        "outputId": "f1bb9063-0fda-4c85-b428-a128d090b2d7"
      },
      "execution_count": null,
      "outputs": [
        {
          "output_type": "stream",
          "name": "stdout",
          "text": [
            "Reading for /content/drive/MyDrive/data/Divvy_Trips_2019_Q4.zip\n",
            "Reading for /content/drive/MyDrive/data/Divvy_Trips_2020_Q1.zip\n"
          ]
        }
      ]
    },
    {
      "cell_type": "code",
      "source": [
        "sparkDF = spark.createDataFrame(pdf)"
      ],
      "metadata": {
        "id": "3IwGAJOvhL4A"
      },
      "execution_count": null,
      "outputs": []
    },
    {
      "cell_type": "code",
      "source": [
        "sparkDF.show()"
      ],
      "metadata": {
        "colab": {
          "base_uri": "https://localhost:8080/"
        },
        "id": "9fJtBqHqhzqa",
        "outputId": "e0205447-1462-4a99-c4c1-97fcc875cbe2"
      },
      "execution_count": null,
      "outputs": [
        {
          "output_type": "stream",
          "name": "stdout",
          "text": [
            "+-----------+-------------------+-------------------+------+------------+---------------+--------------------+-------------+--------------------+----------+------+---------+-------+-------------+----------+--------+------------------+----------------+----------------+--------------+---------+---------+-------+-------+-------------+\n",
            "|    trip_id|         start_time|           end_time|bikeid|tripduration|from_station_id|   from_station_name|to_station_id|     to_station_name|  usertype|gender|birthyear|ride_id|rideable_type|started_at|ended_at|start_station_name|start_station_id|end_station_name|end_station_id|start_lat|start_lng|end_lat|end_lng|member_casual|\n",
            "+-----------+-------------------+-------------------+------+------------+---------------+--------------------+-------------+--------------------+----------+------+---------+-------+-------------+----------+--------+------------------+----------------+----------------+--------------+---------+---------+-------+-------+-------------+\n",
            "| 2.522364E7|2019-10-01 00:01:39|2019-10-01 00:17:20|2215.0|       940.0|           20.0|Sheffield Ave & K...|        309.0|Leavitt St & Armi...|Subscriber|  Male|   1987.0|    NaN|          NaN|       NaN|     NaN|               NaN|             NaN|             NaN|           NaN|      NaN|      NaN|    NaN|    NaN|          NaN|\n",
            "|2.5223641E7|2019-10-01 00:02:16|2019-10-01 00:06:34|6328.0|       258.0|           19.0|Throop (Loomis) S...|        241.0| Morgan St & Polk St|Subscriber|  Male|   1998.0|    NaN|          NaN|       NaN|     NaN|               NaN|             NaN|             NaN|           NaN|      NaN|      NaN|    NaN|    NaN|          NaN|\n",
            "|2.5223642E7|2019-10-01 00:04:32|2019-10-01 00:18:43|3003.0|       850.0|           84.0|Milwaukee Ave & G...|        199.0|Wabash Ave & Gran...|Subscriber|Female|   1991.0|    NaN|          NaN|       NaN|     NaN|               NaN|             NaN|             NaN|           NaN|      NaN|      NaN|    NaN|    NaN|          NaN|\n",
            "|2.5223643E7|2019-10-01 00:04:32|2019-10-01 00:43:43|3275.0|     2,350.0|          313.0|Lakeview Ave & Fu...|        290.0|Kedzie Ave & Palm...|Subscriber|  Male|   1990.0|    NaN|          NaN|       NaN|     NaN|               NaN|             NaN|             NaN|           NaN|      NaN|      NaN|    NaN|    NaN|          NaN|\n",
            "|2.5223644E7|2019-10-01 00:04:34|2019-10-01 00:35:42|5294.0|     1,867.0|          210.0|Ashland Ave & Div...|        382.0|Western Ave & Con...|Subscriber|  Male|   1987.0|    NaN|          NaN|       NaN|     NaN|               NaN|             NaN|             NaN|           NaN|      NaN|      NaN|    NaN|    NaN|          NaN|\n",
            "|2.5223645E7|2019-10-01 00:04:38|2019-10-01 00:10:51|1891.0|       373.0|          156.0|Clark St & Wellin...|        226.0|Racine Ave & Belm...|Subscriber|Female|   1994.0|    NaN|          NaN|       NaN|     NaN|               NaN|             NaN|             NaN|           NaN|      NaN|      NaN|    NaN|    NaN|          NaN|\n",
            "|2.5223646E7|2019-10-01 00:04:52|2019-10-01 00:22:45|1061.0|     1,072.0|           84.0|Milwaukee Ave & G...|        142.0|McClurg Ct & Erie St|Subscriber|Female|   1991.0|    NaN|          NaN|       NaN|     NaN|               NaN|             NaN|             NaN|           NaN|      NaN|      NaN|    NaN|    NaN|          NaN|\n",
            "|2.5223647E7|2019-10-01 00:04:57|2019-10-01 00:29:16|1274.0|     1,458.0|          156.0|Clark St & Wellin...|        463.0|Clark St & Berwyn...|Subscriber|  Male|   1995.0|    NaN|          NaN|       NaN|     NaN|               NaN|             NaN|             NaN|           NaN|      NaN|      NaN|    NaN|    NaN|          NaN|\n",
            "|2.5223648E7|2019-10-01 00:05:20|2019-10-01 00:29:18|6011.0|     1,437.0|          156.0|Clark St & Wellin...|        463.0|Clark St & Berwyn...|Subscriber|Female|   1993.0|    NaN|          NaN|       NaN|     NaN|               NaN|             NaN|             NaN|           NaN|      NaN|      NaN|    NaN|    NaN|          NaN|\n",
            "|2.5223649E7|2019-10-01 00:05:20|2019-10-01 02:23:46|2957.0|     8,306.0|          336.0|Cottage Grove Ave...|        336.0|Cottage Grove Ave...|  Customer|   NaN|      NaN|    NaN|          NaN|       NaN|     NaN|               NaN|             NaN|             NaN|           NaN|      NaN|      NaN|    NaN|    NaN|          NaN|\n",
            "| 2.522365E7|2019-10-01 00:05:30|2019-10-01 00:37:36|2564.0|     1,925.0|           77.0|Clinton St & Madi...|        506.0|Spaulding Ave & A...|Subscriber|  Male|   1977.0|    NaN|          NaN|       NaN|     NaN|               NaN|             NaN|             NaN|           NaN|      NaN|      NaN|    NaN|    NaN|          NaN|\n",
            "|2.5223651E7|2019-10-01 00:07:25|2019-10-01 00:19:53|3601.0|       748.0|          198.0|Green St & Madiso...|        331.0|Halsted St & Clyb...|Subscriber|Female|   1980.0|    NaN|          NaN|       NaN|     NaN|               NaN|             NaN|             NaN|           NaN|      NaN|      NaN|    NaN|    NaN|          NaN|\n",
            "|2.5223652E7|2019-10-01 00:08:40|2019-10-01 00:26:00| 711.0|     1,039.0|           66.0|Clinton St & Lake St|         16.0|Paulina Ave & Nor...|  Customer|  Male|   1994.0|    NaN|          NaN|       NaN|     NaN|               NaN|             NaN|             NaN|           NaN|      NaN|      NaN|    NaN|    NaN|          NaN|\n",
            "|2.5223653E7|2019-10-01 00:08:52|2019-10-01 00:29:17|5005.0|     1,224.0|          240.0|Sheridan Rd & Irv...|        230.0|Lincoln Ave & Ros...|  Customer|   NaN|      NaN|    NaN|          NaN|       NaN|     NaN|               NaN|             NaN|             NaN|           NaN|      NaN|      NaN|    NaN|    NaN|          NaN|\n",
            "|2.5223655E7|2019-10-01 00:10:03|2019-10-01 00:15:30|1730.0|       326.0|           66.0|Clinton St & Lake St|         88.0|Racine Ave & Rand...|Subscriber|  Male|   1992.0|    NaN|          NaN|       NaN|     NaN|               NaN|             NaN|             NaN|           NaN|      NaN|      NaN|    NaN|    NaN|          NaN|\n",
            "|2.5223656E7|2019-10-01 00:10:46|2019-10-01 00:16:04|4595.0|       318.0|          373.0|Kedzie Ave & Chic...|        377.0|Kedzie Ave & Lake St|  Customer|   NaN|      NaN|    NaN|          NaN|       NaN|     NaN|               NaN|             NaN|             NaN|           NaN|      NaN|      NaN|    NaN|    NaN|          NaN|\n",
            "|2.5223657E7|2019-10-01 00:12:04|2019-10-01 01:13:36|2958.0|     3,692.0|           74.0|Kingsbury St & Er...|        402.0|Shields Ave & 31s...|  Customer|Female|   1962.0|    NaN|          NaN|       NaN|     NaN|               NaN|             NaN|             NaN|           NaN|      NaN|      NaN|    NaN|    NaN|          NaN|\n",
            "|2.5223658E7|2019-10-01 00:12:47|2019-10-01 00:17:55|1489.0|       308.0|          289.0|Wells St & Concor...|        176.0|   Clark St & Elm St|Subscriber|  Male|   1992.0|    NaN|          NaN|       NaN|     NaN|               NaN|             NaN|             NaN|           NaN|      NaN|      NaN|    NaN|    NaN|          NaN|\n",
            "|2.5223659E7|2019-10-01 00:13:21|2019-10-01 00:34:12|3602.0|     1,251.0|          106.0|State St & Pearso...|        334.0|Lake Shore Dr & B...|  Customer|   NaN|      NaN|    NaN|          NaN|       NaN|     NaN|               NaN|             NaN|             NaN|           NaN|      NaN|      NaN|    NaN|    NaN|          NaN|\n",
            "| 2.522366E7|2019-10-01 00:15:07|2019-10-01 00:40:34|4228.0|     1,527.0|          133.0|Kingsbury St & Ki...|        673.0|Lincoln Park Cons...|  Customer|Female|   1995.0|    NaN|          NaN|       NaN|     NaN|               NaN|             NaN|             NaN|           NaN|      NaN|      NaN|    NaN|    NaN|          NaN|\n",
            "+-----------+-------------------+-------------------+------+------------+---------------+--------------------+-------------+--------------------+----------+------+---------+-------+-------------+----------+--------+------------------+----------------+----------------+--------------+---------+---------+-------+-------+-------------+\n",
            "only showing top 20 rows\n",
            "\n"
          ]
        }
      ]
    },
    {
      "cell_type": "code",
      "source": [
        "def output_average_trip_duration(df, output_file_path):\n",
        "  df_new = df.withColumn('start_time_ts', unix_timestamp('start_time'))\\\n",
        "                      .withColumn('end_time_ts', unix_timestamp('end_time'))\n",
        "  df_new = df_new.withColumn('days_diff', col('end_time_ts').cast('long') - col('start_time_ts').cast('long'))\n",
        "  df_new = df_new.withColumn(\"day\", to_date(col(\"start_time\")))\n",
        "  df_new = df_new.groupBy(\"day\").agg(mean(\"days_diff\").alias(\"trip_duration\"))\n",
        "  # select only day and average_trip_duration columns\n",
        "  df_new = df_new.orderBy(\"day\")\n",
        "  df_new = df_new.dropna()\n",
        "  write_to_csv(df_new, output_file_path)\n"
      ],
      "metadata": {
        "id": "BRj4XwmfobjO"
      },
      "execution_count": 34,
      "outputs": []
    },
    {
      "cell_type": "markdown",
      "source": [],
      "metadata": {
        "id": "nMguCCsfap21"
      }
    },
    {
      "cell_type": "code",
      "source": [
        "output_average_trip_duration(sparkDF, \"/content/drive/MyDrive/reports/report1\")\n",
        "#"
      ],
      "metadata": {
        "id": "YJLQgcU6titp"
      },
      "execution_count": 35,
      "outputs": []
    }
  ]
}